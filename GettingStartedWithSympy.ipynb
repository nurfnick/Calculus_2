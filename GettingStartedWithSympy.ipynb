{
  "nbformat": 4,
  "nbformat_minor": 0,
  "metadata": {
    "colab": {
      "provenance": [],
      "authorship_tag": "ABX9TyMVGtomdqj/mJIwno5VL6xX",
      "include_colab_link": true
    },
    "kernelspec": {
      "name": "python3",
      "display_name": "Python 3"
    },
    "language_info": {
      "name": "python"
    }
  },
  "cells": [
    {
      "cell_type": "markdown",
      "metadata": {
        "id": "view-in-github",
        "colab_type": "text"
      },
      "source": [
        "<a href=\"https://colab.research.google.com/github/nurfnick/Calculus_2/blob/main/GettingStartedWithSympy.ipynb\" target=\"_parent\"><img src=\"https://colab.research.google.com/assets/colab-badge.svg\" alt=\"Open In Colab\"/></a>"
      ]
    },
    {
      "cell_type": "code",
      "execution_count": 11,
      "metadata": {
        "id": "mYHam7Uv5FGz",
        "colab": {
          "base_uri": "https://localhost:8080/",
          "height": 37
        },
        "outputId": "39d69f0b-2df5-4ec5-c0b9-bd344d52e62a"
      },
      "outputs": [
        {
          "output_type": "execute_result",
          "data": {
            "text/plain": [
              "2700"
            ],
            "text/latex": "$\\displaystyle 2700$"
          },
          "metadata": {},
          "execution_count": 11
        }
      ],
      "source": [
        "import sympy\n",
        "\n",
        "x = sympy.Symbol(\"x\")\n",
        "\n",
        "f = x**3+4*x\n",
        "\n",
        "f.diff(x)\n",
        "\n",
        "f.integrate(x)\n",
        "\n",
        "sympy.integrate(f,(x,0,10))"
      ]
    }
  ]
}