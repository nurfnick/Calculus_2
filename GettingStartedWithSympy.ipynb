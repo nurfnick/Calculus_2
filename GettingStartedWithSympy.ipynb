{
  "nbformat": 4,
  "nbformat_minor": 0,
  "metadata": {
    "colab": {
      "provenance": [],
      "authorship_tag": "ABX9TyPMF3y3XsjvtkDDYYN9QwGU",
      "include_colab_link": true
    },
    "kernelspec": {
      "name": "python3",
      "display_name": "Python 3"
    },
    "language_info": {
      "name": "python"
    }
  },
  "cells": [
    {
      "cell_type": "markdown",
      "metadata": {
        "id": "view-in-github",
        "colab_type": "text"
      },
      "source": [
        "<a href=\"https://colab.research.google.com/github/nurfnick/Calculus_2/blob/main/GettingStartedWithSympy.ipynb\" target=\"_parent\"><img src=\"https://colab.research.google.com/assets/colab-badge.svg\" alt=\"Open In Colab\"/></a>"
      ]
    },
    {
      "cell_type": "code",
      "execution_count": 1,
      "metadata": {
        "id": "mYHam7Uv5FGz",
        "colab": {
          "base_uri": "https://localhost:8080/",
          "height": 37
        },
        "outputId": "83bab2bd-8eef-48cc-ce24-b9771c283bb6"
      },
      "outputs": [
        {
          "output_type": "execute_result",
          "data": {
            "text/plain": [
              "2700"
            ],
            "text/latex": "$\\displaystyle 2700$"
          },
          "metadata": {},
          "execution_count": 1
        }
      ],
      "source": [
        "import sympy\n",
        "\n",
        "x = sympy.Symbol(\"x\")\n",
        "\n",
        "f = x**3+4*x\n",
        "\n",
        "f.diff(x)\n",
        "\n",
        "f.integrate(x)\n",
        "\n",
        "sympy.integrate(f,(x,0,10))"
      ]
    },
    {
      "cell_type": "markdown",
      "source": [
        "$$f(x)=−3x^2\\left(3x^2−2\\right)^3$$"
      ],
      "metadata": {
        "id": "vVsnuBY_ckHQ"
      }
    },
    {
      "cell_type": "code",
      "source": [
        "f = -3*x**2*(3*x**2-2)**3\n",
        "f"
      ],
      "metadata": {
        "id": "vO5AO-d9cfqT",
        "outputId": "aed71e03-7aa2-499e-e667-a3cae8e86277",
        "colab": {
          "base_uri": "https://localhost:8080/",
          "height": 41
        }
      },
      "execution_count": 2,
      "outputs": [
        {
          "output_type": "execute_result",
          "data": {
            "text/plain": [
              "-3*x**2*(3*x**2 - 2)**3"
            ],
            "text/latex": "$\\displaystyle - 3 x^{2} \\left(3 x^{2} - 2\\right)^{3}$"
          },
          "metadata": {},
          "execution_count": 2
        }
      ]
    },
    {
      "cell_type": "code",
      "source": [
        "df = f.diff(x)\n",
        "df"
      ],
      "metadata": {
        "id": "NEWy4tBrc6N5",
        "outputId": "a4f1cf0f-c757-4d87-fa40-672bed69095f",
        "colab": {
          "base_uri": "https://localhost:8080/",
          "height": 41
        }
      },
      "execution_count": 4,
      "outputs": [
        {
          "output_type": "execute_result",
          "data": {
            "text/plain": [
              "-54*x**3*(3*x**2 - 2)**2 - 6*x*(3*x**2 - 2)**3"
            ],
            "text/latex": "$\\displaystyle - 54 x^{3} \\left(3 x^{2} - 2\\right)^{2} - 6 x \\left(3 x^{2} - 2\\right)^{3}$"
          },
          "metadata": {},
          "execution_count": 4
        }
      ]
    },
    {
      "cell_type": "code",
      "source": [
        "df.subs(x,1)"
      ],
      "metadata": {
        "id": "klL0C6Swc-27",
        "outputId": "562f1d2f-c168-4f7a-949e-cd5fa524402f",
        "colab": {
          "base_uri": "https://localhost:8080/",
          "height": 37
        }
      },
      "execution_count": 9,
      "outputs": [
        {
          "output_type": "execute_result",
          "data": {
            "text/plain": [
              "-60"
            ],
            "text/latex": "$\\displaystyle -60$"
          },
          "metadata": {},
          "execution_count": 9
        }
      ]
    },
    {
      "cell_type": "code",
      "source": [
        "df.subs(x,-1)"
      ],
      "metadata": {
        "id": "X6cDpiM2dMFd",
        "outputId": "5f5b90a1-6ec9-4f36-f69c-ee6ce15df639",
        "colab": {
          "base_uri": "https://localhost:8080/",
          "height": 37
        }
      },
      "execution_count": 10,
      "outputs": [
        {
          "output_type": "execute_result",
          "data": {
            "text/plain": [
              "60"
            ],
            "text/latex": "$\\displaystyle 60$"
          },
          "metadata": {},
          "execution_count": 10
        }
      ]
    },
    {
      "cell_type": "code",
      "source": [],
      "metadata": {
        "id": "mLOLpbGMdkig"
      },
      "execution_count": null,
      "outputs": []
    }
  ]
}