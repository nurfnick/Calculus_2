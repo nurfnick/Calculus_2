{
  "nbformat": 4,
  "nbformat_minor": 0,
  "metadata": {
    "colab": {
      "provenance": [],
      "authorship_tag": "ABX9TyN+6nD48REqNv3wSwlMpQWx",
      "include_colab_link": true
    },
    "kernelspec": {
      "name": "python3",
      "display_name": "Python 3"
    },
    "language_info": {
      "name": "python"
    }
  },
  "cells": [
    {
      "cell_type": "markdown",
      "metadata": {
        "id": "view-in-github",
        "colab_type": "text"
      },
      "source": [
        "<a href=\"https://colab.research.google.com/github/nurfnick/Calculus_2/blob/main/Exam1Review.ipynb\" target=\"_parent\"><img src=\"https://colab.research.google.com/assets/colab-badge.svg\" alt=\"Open In Colab\"/></a>"
      ]
    },
    {
      "cell_type": "markdown",
      "source": [
        "# Exam 1 Review"
      ],
      "metadata": {
        "id": "aqysEAqzU2D2"
      }
    },
    {
      "cell_type": "code",
      "execution_count": 1,
      "metadata": {
        "id": "5J2n8zOqU1mY"
      },
      "outputs": [],
      "source": [
        "from sympy import *\n",
        "x = symbols('x')"
      ]
    },
    {
      "cell_type": "markdown",
      "source": [
        "##Derivatives\n",
        "\n",
        "* Product Rule $x\\sin(x)$\n",
        "* Quotient $\\frac{x^2-1}{5x+3}$\n",
        "* Chain Rule $\\sin(e^{5x})$\n",
        "* Log $\\log(5+e^{x-3}+4x)$"
      ],
      "metadata": {
        "id": "l_VsmUdhXKtZ"
      }
    },
    {
      "cell_type": "markdown",
      "source": [
        "## Integrals \n",
        "\n",
        "* $x^n$ $\\int_0^{32} \\sqrt[5] x\\ dx$\n",
        "* Trig Functions $\\int_0^{\\frac{\\pi}2} sin(5x)\\ dx$\n",
        "* Exponential $\\int_0^{\\ln 2}e^{4x}\\ dx$ Simplify me too!\n",
        "* $u$-subsititution $\\int\\frac{2x-3}{2x^2-6x+3}\\ dx$\n",
        "* Integration by parts $\\int xe^x\\ dx$ and $\\int x\\sin(x)\\ dx$\n"
      ],
      "metadata": {
        "id": "QdDpr7Jhdx3S"
      }
    },
    {
      "cell_type": "markdown",
      "source": [
        "## Techniques\n",
        "\n",
        "* Find the area between the curves $y=x$ and $y = x^3$.\n",
        "* What is the volume of the object created by revolving $y = \\sqrt[5] x$, $0\\leq x\\leq 32$ about the $x$-axis?\n",
        "* What is the volume of the object created by revolving $y = \\sqrt[5] x$, $0\\leq x\\leq 32$ about the $y$-axis?\n",
        "* What is the average value of the function $\\sin(x)\\cos^4(x)$ on the interval $\\frac \\pi 3\\leq x\\leq \\frac\\pi 2$?\n",
        "\n",
        "* No work problems..."
      ],
      "metadata": {
        "id": "F_x6kHk_fUzN"
      }
    },
    {
      "cell_type": "code",
      "source": [],
      "metadata": {
        "id": "X5J05DYNU8Qd"
      },
      "execution_count": null,
      "outputs": []
    }
  ]
}