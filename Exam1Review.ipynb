{
  "nbformat": 4,
  "nbformat_minor": 0,
  "metadata": {
    "colab": {
      "provenance": [],
      "authorship_tag": "ABX9TyMUbJHoAE5YWf36fLyUw/fj",
      "include_colab_link": true
    },
    "kernelspec": {
      "name": "python3",
      "display_name": "Python 3"
    },
    "language_info": {
      "name": "python"
    }
  },
  "cells": [
    {
      "cell_type": "markdown",
      "metadata": {
        "id": "view-in-github",
        "colab_type": "text"
      },
      "source": [
        "<a href=\"https://colab.research.google.com/github/nurfnick/Calculus_2/blob/main/Exam1Review.ipynb\" target=\"_parent\"><img src=\"https://colab.research.google.com/assets/colab-badge.svg\" alt=\"Open In Colab\"/></a>"
      ]
    },
    {
      "cell_type": "markdown",
      "source": [
        "# Exam 1 Review"
      ],
      "metadata": {
        "id": "aqysEAqzU2D2"
      }
    },
    {
      "cell_type": "code",
      "execution_count": 2,
      "metadata": {
        "id": "5J2n8zOqU1mY"
      },
      "outputs": [],
      "source": [
        "from sympy import *\n",
        "x = symbols('x')"
      ]
    },
    {
      "cell_type": "markdown",
      "source": [
        "##Derivatives\n",
        "\n",
        "* Product Rule $x\\sin(x)$\n",
        "* Quotient $\\frac{x^2-1}{5x+3}$\n",
        "* Chain Rule $\\sin(e^{5x})$\n",
        "* Log $\\log(5+e^{x-3}+4x)$"
      ],
      "metadata": {
        "id": "l_VsmUdhXKtZ"
      }
    },
    {
      "cell_type": "markdown",
      "source": [
        "## Integrals \n",
        "\n",
        "* $x^n$ $\\int_0^{32} \\sqrt[5] x\\ dx$\n",
        "* Trig Functions $\\int_0^{\\frac{\\pi}2} \\sin(5x)\\ dx$\n",
        "* Exponential $\\int_0^{\\ln 2}e^{4x}\\ dx$ Simplify me too!\n",
        "* $u$-subsititution $\\int\\frac{2x-3}{2x^2-6x+3}\\ dx$\n",
        "* Integration by parts $\\int xe^x\\ dx$ and $\\int x\\sin(x)\\ dx$\n"
      ],
      "metadata": {
        "id": "QdDpr7Jhdx3S"
      }
    },
    {
      "cell_type": "markdown",
      "source": [
        "## Techniques\n",
        "\n",
        "* Find the area between the curves $y=x$ and $y = x^3$.\n",
        "* What is the volume of the object created by revolving $y = \\sqrt[5] x$, $0\\leq x\\leq 32$ about the $x$-axis?\n",
        "* What is the volume of the object created by revolving $y = \\sqrt[5] x$, $0\\leq x\\leq 32$ about the $y$-axis?\n",
        "* What is the average value of the function $\\sin(x)\\cos^4(x)$ on the interval $\\frac \\pi 3\\leq x\\leq \\frac\\pi 2$?\n",
        "\n",
        "* No work problems..."
      ],
      "metadata": {
        "id": "F_x6kHk_fUzN"
      }
    },
    {
      "cell_type": "markdown",
      "source": [
        "When do you use which volume method?\n",
        "\n",
        "$x$ axis: Washer\n",
        "$$\n",
        "\\int \\pi (f(x))^2\\ dx\n",
        "$$\n",
        "\n",
        "$y$ axis: Shell\n",
        "$$\n",
        "\\int 2\\pi x f(x)\\ dx\n",
        "$$\n",
        "\n",
        "What is the volume of the object created by revolving $y = \\sqrt[5] x$, $0\\leq x\\leq 32$ about the $x$-axis?\n",
        "$$\n",
        "\\int_0^{32} \\pi (\\sqrt[5] x)^2\\ dx = \\pi\\int_0^{32}x^{\\frac25}\\ dx = \\pi \\frac{x^{\\frac25 +1}}{\\frac75}\\large|_{x= 0}^{x= 32}\n",
        "$$\n",
        "$$\n",
        "= \\frac{5\\pi} 7 \\left(32^{\\frac75} - 0\\right) = \\frac{5\\pi} 7\\times 128\n",
        "$$\n",
        "Looking for setup, simplify and integration to all be correct.\n",
        "\n",
        "Exam does not have same function.\n",
        "\n",
        "What is the volume of the object created by revolving $y = \\sqrt[5] x$, $0\\leq x\\leq 32$ about the $y$-axis?\n",
        "\n",
        "$$\n",
        "\\int_0^{32} 2\\pi x (\\sqrt[5] x)\\ dx\n",
        "=\n",
        "2\\pi \\int_0^{32} x^{\\frac65}\\ dx\n",
        "=\n",
        "2\\pi \\frac{x^{\\frac65+1}}{\\frac{11}5}\\large |_{x = 0}^{x = 32} \n",
        "$$\n",
        "$$\n",
        "= \\frac{10\\pi}{11}\\left(32^{\\frac{11}5} - 0\\right) = \\frac{10 \\pi}{11}\\times 2048\n",
        "$$"
      ],
      "metadata": {
        "id": "9621u5cQocoa"
      }
    },
    {
      "cell_type": "markdown",
      "source": [
        "A question without the limits?\n",
        "\n",
        "Find the area between the curves $y=x$ and $y = x^3$.\n",
        "\n",
        "How do I find the limits?\n",
        "$$\n",
        "x = x^3\n",
        "$$\n",
        "$$\n",
        "x^3-x = 0\n",
        "$$\n",
        "$$\n",
        "x(x^2-1) = 0\n",
        "$$\n",
        "$$\n",
        "x(x-1)(x+1) = 0\n",
        "$$\n",
        "So $x = 0,\\pm 1$\n",
        "\n",
        "Would the integral be $\\int_{-1}^1\\cdots\\ dx $ NO!  Need to know which function is on top!  Sketch a graph!"
      ],
      "metadata": {
        "id": "bTj4L611slZW"
      }
    },
    {
      "cell_type": "code",
      "source": [
        "plot(x,x**3,(x,-2,2))"
      ],
      "metadata": {
        "id": "X5J05DYNU8Qd",
        "outputId": "665cd06b-e1a7-4ef2-a770-5deab45fce3c",
        "colab": {
          "base_uri": "https://localhost:8080/",
          "height": 314
        }
      },
      "execution_count": 3,
      "outputs": [
        {
          "output_type": "display_data",
          "data": {
            "text/plain": [
              "<Figure size 432x288 with 1 Axes>"
            ],
            "image/png": "[encoded data removed]"
          },
          "metadata": {
            "needs_background": "light"
          }
        },
        {
          "output_type": "execute_result",
          "data": {
            "text/plain": [
              "<sympy.plotting.plot.Plot at 0x7f5080e07fd0>"
            ]
          },
          "metadata": {},
          "execution_count": 3
        }
      ]
    },
    {
      "cell_type": "markdown",
      "source": [
        "Need to do two integrals!  Could look at the values to see which is on top too!  $\\left(\\frac 12\\right)^3 = \\frac 18$\n",
        "\n",
        "$$\n",
        "Area = \\int_{-1}^0 (x^3 - x) \\ dx + \\int_0^1(x-x^3)\\  dx\n",
        "$$\n",
        "$$\n",
        "= \n",
        "\\frac{x^4}4 - \\frac{x^2}2|_{x= -1}^{x = 0}\n",
        "+\n",
        "\\frac{x^2}2 - \\frac{x^4}4|_{x = 0}^{x = 1}\n",
        "$$\n",
        "\n",
        "finish me..."
      ],
      "metadata": {
        "id": "XkbfNNiOtqMN"
      }
    },
    {
      "cell_type": "markdown",
      "source": [
        "Integration by Parts\n",
        "\n",
        "$$\n",
        "\\int u\\ dv = uv - \\int v\\ du\n",
        "$$\n",
        "\n",
        "$$\n",
        "\\int xe^x\\ dx\n",
        "$$ \n",
        "$$\n",
        "u = ? \\quad dv = ?\n",
        "$$\n",
        "Polynomial should generally by $u$.  Simplifies the problem!\n",
        "$$ \n",
        "u = x \\quad dv =  e^x \\ dx \\\\\n",
        "du = dx \\quad v = e^x\n",
        "$$\n",
        "Now apply it\n",
        "$$\n",
        "\\int xe^x\\ dx = uv - \\int v du\\\\\n",
        " = \n",
        " (x)(e^x) - \\int e^x dx\n",
        "=\n",
        "xe^x-e^x +C\n",
        "$$ \n",
        "If $u$ sub doesn't simplify your integral, do IBP.\n",
        "\n",
        "\n"
      ],
      "metadata": {
        "id": "qNwXfWsavB1m"
      }
    },
    {
      "cell_type": "markdown",
      "source": [
        "$u$-Sub Problem\n",
        "\n",
        " $$\\int\\frac{2x-3}{2x^2-6x+3}\\ dx$$\n",
        "\n",
        " $$\n",
        "u = 2x^2 - 6x +3\\\\\n",
        "du = (4x -6)dx = 2(2x-3)dx\n",
        " $$\n",
        " $$\n",
        "\\frac{du}2 = (2x-3) dx\n",
        " $$\n",
        " So the OG integral is:\n",
        " $$\n",
        "= \\int \\frac{1}u \\frac{du}2\n",
        "=\n",
        "\\frac12\\int \\frac{du}u\n",
        "$$\n",
        "$$\n",
        "=\n",
        "\\frac12\\ln|u|\n",
        "=\n",
        "\\frac12\\ln |2x^2-6x+3|+C\n",
        " $$\n",
        " Variables are just place holders!  Noting special about $u$ vs $x$"
      ],
      "metadata": {
        "id": "Y6yEEEsuw0Fj"
      }
    },
    {
      "cell_type": "markdown",
      "source": [
        "$\\int_0^{\\ln 2}e^{4x}\\ dx$ \n",
        "\n",
        "$$\\int_0^{\\ln 2}e^{4x}\\ dx\n",
        "$$ \n",
        "$$\n",
        " u = 4x\\\\\n",
        " du = 4\\ dx\n",
        "$$\n",
        "So the integral becomes\n",
        "$$\n",
        "= \n",
        "\\int_0^{4\\ln 2} e^u \\frac{du}4\n",
        "=\n",
        "\\frac14 e^u\\large|_{u= 0}^{u=4\\ln 2}\n",
        "$$\n",
        "$$\n",
        "= \n",
        "\\frac14\\left(e^{4\\ln 2}-e^0\\right)\n",
        "=\n",
        "\\frac14(e^{\\ln 2^4} -1)\n",
        "=\n",
        "\\frac14(2^4-1)\n",
        "=\n",
        "\\frac{15}4\n",
        "$$\n",
        "\n",
        "This is the simplify completely question on the exam!"
      ],
      "metadata": {
        "id": "pNgm7lTYyq4w"
      }
    },
    {
      "cell_type": "code",
      "source": [],
      "metadata": {
        "id": "MWr3oL-NteqB"
      },
      "execution_count": null,
      "outputs": []
    }
  ]
}