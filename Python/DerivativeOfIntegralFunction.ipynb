{
  "nbformat": 4,
  "nbformat_minor": 0,
  "metadata": {
    "colab": {
      "provenance": [],
      "authorship_tag": "ABX9TyN1tOqcABqT6rZObHpAWLD5",
      "include_colab_link": true
    },
    "kernelspec": {
      "name": "python3",
      "display_name": "Python 3"
    },
    "language_info": {
      "name": "python"
    }
  },
  "cells": [
    {
      "cell_type": "markdown",
      "metadata": {
        "id": "view-in-github",
        "colab_type": "text"
      },
      "source": [
        "<a href=\"https://colab.research.google.com/github/nurfnick/Calculus_2/blob/main/Python/DerivativeOfIntegralFunction.ipynb\" target=\"_parent\"><img src=\"https://colab.research.google.com/assets/colab-badge.svg\" alt=\"Open In Colab\"/></a>"
      ]
    },
    {
      "cell_type": "markdown",
      "source": [
        "# Derivative of an Inegral"
      ],
      "metadata": {
        "id": "PgsdJi6U7e4e"
      }
    },
    {
      "cell_type": "code",
      "execution_count": 1,
      "metadata": {
        "id": "BsPeL9_u7ePY"
      },
      "outputs": [],
      "source": [
        "from sympy import *\n",
        "\n",
        "x = symbols('x')"
      ]
    },
    {
      "cell_type": "markdown",
      "source": [
        "How would you take the derivative of an integral function?  Here is a function I don't know how to integrate:\n",
        "$$\n",
        "\\int e^{-x^2}\\ dx\n",
        "$$"
      ],
      "metadata": {
        "id": "7J9qPbRG7syN"
      }
    },
    {
      "cell_type": "code",
      "source": [
        "f = E**(-x**2)\n",
        "f"
      ],
      "metadata": {
        "colab": {
          "base_uri": "https://localhost:8080/",
          "height": 41
        },
        "id": "UL_8VLJf7nq4",
        "outputId": "bebb0f67-7bb0-4818-d228-afa3d9b69b0a"
      },
      "execution_count": 11,
      "outputs": [
        {
          "output_type": "execute_result",
          "data": {
            "text/plain": [
              "exp(-x**2)"
            ],
            "text/latex": "$\\displaystyle e^{- x^{2}}$"
          },
          "metadata": {},
          "execution_count": 11
        }
      ]
    },
    {
      "cell_type": "markdown",
      "source": [
        "So I'll just define the integral as a new function..."
      ],
      "metadata": {
        "id": "uHanBi1R8ZOU"
      }
    },
    {
      "cell_type": "code",
      "source": [
        "g = integrate(f,x)"
      ],
      "metadata": {
        "id": "aRbMQQcT8AL7"
      },
      "execution_count": 14,
      "outputs": []
    },
    {
      "cell_type": "markdown",
      "source": [
        "Next I take the derivative of it!"
      ],
      "metadata": {
        "id": "iBzFe-hg8fJf"
      }
    },
    {
      "cell_type": "code",
      "source": [
        "diff(g,x)"
      ],
      "metadata": {
        "colab": {
          "base_uri": "https://localhost:8080/",
          "height": 41
        },
        "id": "nhQSfyq08HLr",
        "outputId": "e38b20cf-08ec-47fd-d14b-8f94e9bc4c59"
      },
      "execution_count": 15,
      "outputs": [
        {
          "output_type": "execute_result",
          "data": {
            "text/plain": [
              "exp(-x**2)"
            ],
            "text/latex": "$\\displaystyle e^{- x^{2}}$"
          },
          "metadata": {},
          "execution_count": 15
        }
      ]
    },
    {
      "cell_type": "markdown",
      "source": [
        "Is that what we expected?  Yes!"
      ],
      "metadata": {
        "id": "X5j3bHQE8khD"
      }
    },
    {
      "cell_type": "code",
      "source": [],
      "metadata": {
        "id": "nvrzmfuH8jQs"
      },
      "execution_count": null,
      "outputs": []
    }
  ]
}