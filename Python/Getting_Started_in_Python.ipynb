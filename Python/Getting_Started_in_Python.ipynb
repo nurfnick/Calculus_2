{
  "nbformat": 4,
  "nbformat_minor": 0,
  "metadata": {
    "colab": {
      "name": "Untitled4.ipynb",
      "provenance": [],
      "include_colab_link": true
    },
    "kernelspec": {
      "name": "python3",
      "display_name": "Python 3"
    }
  },
  "cells": [
    {
      "cell_type": "markdown",
      "metadata": {
        "id": "view-in-github",
        "colab_type": "text"
      },
      "source": [
        "<a href=\"https://colab.research.google.com/github/nurfnick/Calculus_2/blob/main/Python/Getting_Started_in_Python.ipynb\" target=\"_parent\"><img src=\"https://colab.research.google.com/assets/colab-badge.svg\" alt=\"Open In Colab\"/></a>"
      ]
    },
    {
      "cell_type": "markdown",
      "metadata": {
        "id": "VPq8GgBKBCXj"
      },
      "source": [
        "#Welcome to Python"
      ]
    },
    {
      "cell_type": "markdown",
      "metadata": {
        "id": "1SZjJ8YBAld7"
      },
      "source": [
        "Python is a great language with lots of easy to use syntax and wide usage.  While I know it may not be a language that you are familiar with, I do think that you should be capable of using multiple languages and transitioning from one to another.  This document will serve as an example sheet and hopefully a style guide for the semester."
      ]
    },
    {
      "cell_type": "markdown",
      "metadata": {
        "id": "ndgvNdSpltZ8"
      },
      "source": [
        "## Jupyter, Google Colab, Github and Markdown"
      ]
    },
    {
      "cell_type": "markdown",
      "metadata": {
        "id": "FEbQMVc2nrtf"
      },
      "source": [
        "I will be using jupyter, github and google colab.  This will require web access.  It is possible to create jupyter notebooks locally (rather than on the cloud) but it will require that you download software to your machine. "
      ]
    },
    {
      "cell_type": "markdown",
      "metadata": {
        "id": "OFaW5cwNpSAO"
      },
      "source": [
        "###Jupyter"
      ]
    },
    {
      "cell_type": "markdown",
      "metadata": {
        "id": "vKTLGJn5pUgd"
      },
      "source": [
        "There are two basic types of cells in a jupyter notebook, coding and text.  Coding is done in the python language.  Text can be simply just text but it does permit (and you are asked to use) a markdown language.  This is very similar to $\\LaTeX$ in creating equations but some of the typesetting is different.  Headers are created with # or ## depending on level.  Bullets or enumerations can be done with pointy-clicky.  Shift+Enter executes a line of code.\n",
        "\n",
        "\n",
        "\n"
      ]
    },
    {
      "cell_type": "markdown",
      "metadata": {
        "id": "Vjt5m_oFqtVO"
      },
      "source": [
        "###Google Colab"
      ]
    },
    {
      "cell_type": "markdown",
      "metadata": {
        "id": "FRjkn7QAqyXV"
      },
      "source": [
        "You will see an access google colab at the top of all my jupyter notebooks for this class.  That will allow you to open them and make changes or execute the code.  Code will run on google cloud servers rather than your local machines."
      ]
    },
    {
      "cell_type": "markdown",
      "metadata": {
        "id": "qrObPxYjrJ8t"
      },
      "source": [
        "###Github"
      ]
    },
    {
      "cell_type": "markdown",
      "metadata": {
        "id": "Rr8pU4JLrMq0"
      },
      "source": [
        "Students find github very intimidating.  It can be run from the command line.  I do not use it that way.  I will mostly interact with the web interface to create repositories (where you store code) and upload documents.  Documents (like this one) can be uploaded (or saved) into github directly.  You will need an account and a repository to be able to do this.  You need not use all features of github but it does create a place for you to store and share your work. Here is a more thorough tutorial https://reproducible-science-curriculum.github.io/sharing-RR-Jupyter/01-sharing-github/ "
      ]
    },
    {
      "cell_type": "code",
      "metadata": {
        "id": "QyC4qZqRlrK7"
      },
      "source": [],
      "execution_count": 13,
      "outputs": []
    },
    {
      "cell_type": "markdown",
      "metadata": {
        "id": "L-wTmtRiMemB"
      },
      "source": [
        "### Markdown"
      ]
    },
    {
      "cell_type": "markdown",
      "metadata": {
        "id": "geklNLg8MiIb"
      },
      "source": [
        "Markdown is also really great for creating technical reports,enbedding code and writing formulas.  There are two options in Jupyter for cell types \"code\" and \"text\"  Code is run in python but Text is run in markdown.  \n",
        "\n",
        "You see I am simply typing and it is creating this text but I can do a variety of other things including headers # or ## etc.\n",
        "\n",
        "I can also do lists with the * (star)\n",
        "* First item\n",
        "* Second Item \n",
        "\n",
        "I can number my lists too just by numbering and following with a dot 1. \n",
        "1. Hi\n",
        "2. There\n",
        "1. General\n",
        "4. Kenobi\n",
        "\n",
        "Links get surrounded with < brackets > <https://github.com/nurfnick> You can make the link change by preceeding with [ the other] brackets followed by the link in (parentheses) [My Github](https://github.com/nurfnick)"
      ]
    },
    {
      "cell_type": "markdown",
      "metadata": {
        "id": "p6hbQogBO2T0"
      },
      "source": [
        "Most important is it supports $\\LaTeX$ coding.  The dollar sign on either side let's you do inline equations $y = mx+b$ and double dollars is for bigger equations\n",
        "$$\n",
        "e^{i\\pi}+1 = 0\n",
        "$$"
      ]
    },
    {
      "cell_type": "code",
      "metadata": {
        "id": "kEsAGNcfMhhF"
      },
      "source": [],
      "execution_count": 13,
      "outputs": []
    },
    {
      "cell_type": "markdown",
      "source": [
        "## Sympy"
      ],
      "metadata": {
        "id": "tM-FpjvrnmHb"
      }
    },
    {
      "cell_type": "markdown",
      "source": [
        "Sympy is a super powerful tool for doing symbolic algebraic manipulation in python.  I believe that we can do almost everything for this course with just this one package!\n",
        "\n",
        "First here I'll import everything from sympy, you'll need to call this on every document.  I'll include it in my template!"
      ],
      "metadata": {
        "id": "wcjHIv0InoRV"
      }
    },
    {
      "cell_type": "code",
      "source": [
        "from sympy import *\n",
        "\n",
        "x = symbols('x')"
      ],
      "metadata": {
        "id": "D5h-7Ta0oAUk"
      },
      "execution_count": 14,
      "outputs": []
    },
    {
      "cell_type": "markdown",
      "source": [
        "I defined `x` as a symbol.  This allows it to be used in functions for sympy.  Next I define a simple function."
      ],
      "metadata": {
        "id": "wmTwh7c_qXqS"
      }
    },
    {
      "cell_type": "code",
      "source": [
        "f = sin(x)"
      ],
      "metadata": {
        "id": "WvYf390NoKQN"
      },
      "execution_count": 15,
      "outputs": []
    },
    {
      "cell_type": "markdown",
      "source": [
        "Here is the derivative of the function."
      ],
      "metadata": {
        "id": "lqtOWhADqhZI"
      }
    },
    {
      "cell_type": "code",
      "source": [
        "f.diff(x)"
      ],
      "metadata": {
        "id": "N2M7QTR0oMG_",
        "outputId": "138e6b7d-bda2-4f7b-cd45-e606d0d78ff3",
        "colab": {
          "base_uri": "https://localhost:8080/",
          "height": 38
        }
      },
      "execution_count": 16,
      "outputs": [
        {
          "output_type": "execute_result",
          "data": {
            "text/plain": [
              "cos(x)"
            ],
            "text/latex": "$\\displaystyle \\cos{\\left(x \\right)}$"
          },
          "metadata": {},
          "execution_count": 16
        }
      ]
    },
    {
      "cell_type": "code",
      "source": [
        "f.diff((x,12))#twelfth derivative"
      ],
      "metadata": {
        "id": "aorl_G24oPDA",
        "outputId": "7e3affe8-157c-4831-a6ad-aaa4d03fcf4e",
        "colab": {
          "base_uri": "https://localhost:8080/",
          "height": 38
        }
      },
      "execution_count": 17,
      "outputs": [
        {
          "output_type": "execute_result",
          "data": {
            "text/plain": [
              "sin(x)"
            ],
            "text/latex": "$\\displaystyle \\sin{\\left(x \\right)}$"
          },
          "metadata": {},
          "execution_count": 17
        }
      ]
    },
    {
      "cell_type": "markdown",
      "source": [
        "Plotting is really simple."
      ],
      "metadata": {
        "id": "PWhDj288qkzD"
      }
    },
    {
      "cell_type": "code",
      "source": [
        "plot(f)"
      ],
      "metadata": {
        "id": "7_qK_-DvofJQ",
        "outputId": "81048de7-e018-4bde-a2ea-3c6aa083ec31",
        "colab": {
          "base_uri": "https://localhost:8080/",
          "height": 314
        }
      },
      "execution_count": 18,
      "outputs": [
        {
          "output_type": "display_data",
          "data": {
            "text/plain": [
              "<Figure size 432x288 with 1 Axes>"
            ],
            "image/png": "[encoded data removed]"
          },
          "metadata": {
            "needs_background": "light"
          }
        },
        {
          "output_type": "execute_result",
          "data": {
            "text/plain": [
              "<sympy.plotting.plot.Plot at 0x7f19ba83a8e0>"
            ]
          },
          "metadata": {},
          "execution_count": 18
        }
      ]
    },
    {
      "cell_type": "markdown",
      "source": [
        "If you want a more specific interval do the following:"
      ],
      "metadata": {
        "id": "v0dzAu7oqnmq"
      }
    },
    {
      "cell_type": "code",
      "source": [
        "plot(f,(x,0,2*pi))"
      ],
      "metadata": {
        "colab": {
          "base_uri": "https://localhost:8080/",
          "height": 314
        },
        "id": "XSDv1xUCqs1B",
        "outputId": "da92f383-d388-4d6c-d592-a770c563e1b9"
      },
      "execution_count": 19,
      "outputs": [
        {
          "output_type": "display_data",
          "data": {
            "text/plain": [
              "<Figure size 432x288 with 1 Axes>"
            ],
            "image/png": "[encoded data removed]"
          },
          "metadata": {
            "needs_background": "light"
          }
        },
        {
          "output_type": "execute_result",
          "data": {
            "text/plain": [
              "<sympy.plotting.plot.Plot at 0x7f19ba73cbb0>"
            ]
          },
          "metadata": {},
          "execution_count": 19
        }
      ]
    },
    {
      "cell_type": "markdown",
      "source": [
        "Integrals aren't terrible either."
      ],
      "metadata": {
        "id": "Na1eg729qzn6"
      }
    },
    {
      "cell_type": "code",
      "source": [
        "f.integrate(x)"
      ],
      "metadata": {
        "id": "7dpj3pQeohsA",
        "outputId": "95692469-b0da-42c4-e47d-562d40e600da",
        "colab": {
          "base_uri": "https://localhost:8080/",
          "height": 38
        }
      },
      "execution_count": 20,
      "outputs": [
        {
          "output_type": "execute_result",
          "data": {
            "text/plain": [
              "-cos(x)"
            ],
            "text/latex": "$\\displaystyle - \\cos{\\left(x \\right)}$"
          },
          "metadata": {},
          "execution_count": 20
        }
      ]
    },
    {
      "cell_type": "markdown",
      "source": [
        "To do a definite integral:"
      ],
      "metadata": {
        "id": "u7NLbRvpq74K"
      }
    },
    {
      "cell_type": "code",
      "source": [
        "integrate(f,(x,0,2*pi))"
      ],
      "metadata": {
        "colab": {
          "base_uri": "https://localhost:8080/",
          "height": 37
        },
        "id": "Qoed28mZq_Pf",
        "outputId": "8da4116a-03ae-4437-cd38-39cd7c3e7937"
      },
      "execution_count": 21,
      "outputs": [
        {
          "output_type": "execute_result",
          "data": {
            "text/plain": [
              "0"
            ],
            "text/latex": "$\\displaystyle 0$"
          },
          "metadata": {},
          "execution_count": 21
        }
      ]
    },
    {
      "cell_type": "markdown",
      "source": [
        "We can do solving too!"
      ],
      "metadata": {
        "id": "OBPvHWtmrETQ"
      }
    },
    {
      "cell_type": "code",
      "source": [
        "solve(f,x)"
      ],
      "metadata": {
        "colab": {
          "base_uri": "https://localhost:8080/"
        },
        "id": "xCrAjP1GrHmY",
        "outputId": "07732a54-f467-4963-fc08-d4621293b92e"
      },
      "execution_count": 22,
      "outputs": [
        {
          "output_type": "execute_result",
          "data": {
            "text/plain": [
              "[0, pi]"
            ]
          },
          "metadata": {},
          "execution_count": 22
        }
      ]
    },
    {
      "cell_type": "markdown",
      "source": [
        "This gives you where the function equals zero, 0.  If I want to know when it is 1, I do $f-1$"
      ],
      "metadata": {
        "id": "sDWW6F3zrRCz"
      }
    },
    {
      "cell_type": "code",
      "source": [
        "solve(f-1,x)"
      ],
      "metadata": {
        "colab": {
          "base_uri": "https://localhost:8080/"
        },
        "id": "tGrN6XlJrejB",
        "outputId": "6acadfd0-7958-411f-db29-a489023894e9"
      },
      "execution_count": 23,
      "outputs": [
        {
          "output_type": "execute_result",
          "data": {
            "text/plain": [
              "[pi/2]"
            ]
          },
          "metadata": {},
          "execution_count": 23
        }
      ]
    },
    {
      "cell_type": "markdown",
      "source": [
        "If you are looking for a more complicated solution, you may have to use the `nsolve`.  This requires a point near the solution, I looked at the graph to get a guess that $f(.5)\\approx .3$"
      ],
      "metadata": {
        "id": "aQQ1FpNhrhUQ"
      }
    },
    {
      "cell_type": "code",
      "source": [
        "nsolve(f-.3,x,.5)"
      ],
      "metadata": {
        "colab": {
          "base_uri": "https://localhost:8080/",
          "height": 37
        },
        "id": "Vso4VyqHrraC",
        "outputId": "524b7e92-f319-43d6-c2d4-d341d4063400"
      },
      "execution_count": 24,
      "outputs": [
        {
          "output_type": "execute_result",
          "data": {
            "text/plain": [
              "0.304692654015398"
            ],
            "text/latex": "$\\displaystyle 0.304692654015398$"
          },
          "metadata": {},
          "execution_count": 24
        }
      ]
    },
    {
      "cell_type": "markdown",
      "source": [
        "This may throw errors if you guess a value not too near the solution.  I couldn't get this function to throw an error but here is an unexpected root, no where near my point!"
      ],
      "metadata": {
        "id": "gxztnyZEsAAG"
      }
    },
    {
      "cell_type": "code",
      "source": [
        "nsolve(f-.3,x,1.5)"
      ],
      "metadata": {
        "colab": {
          "base_uri": "https://localhost:8080/",
          "height": 37
        },
        "id": "QR0R5we5sGLl",
        "outputId": "c5ea5e44-9bbe-4709-bd27-b5005ab40afe"
      },
      "execution_count": 25,
      "outputs": [
        {
          "output_type": "execute_result",
          "data": {
            "text/plain": [
              "151.101140026325"
            ],
            "text/latex": "$\\displaystyle 151.101140026325$"
          },
          "metadata": {},
          "execution_count": 25
        }
      ]
    },
    {
      "cell_type": "markdown",
      "source": [
        "Clearly this is just a crash through this, there is a ton that `sympy` can do..."
      ],
      "metadata": {
        "id": "D4nOcrjsoSz2"
      }
    },
    {
      "cell_type": "markdown",
      "source": [
        "You can probably stop reading here for Calc 2.  If I need any of the following, I will cover it in class!"
      ],
      "metadata": {
        "id": "vu7Lmrj2s2Q2"
      }
    },
    {
      "cell_type": "markdown",
      "metadata": {
        "id": "E2FrxpMoBIVj"
      },
      "source": [
        "###For Loops"
      ]
    },
    {
      "cell_type": "markdown",
      "metadata": {
        "id": "vBD52ZuQBPTk"
      },
      "source": [
        "One of the best parts of python is the ease of making for loops.  I'll give a few examples here"
      ]
    },
    {
      "cell_type": "code",
      "metadata": {
        "id": "ao4V80SjAML7",
        "colab": {
          "base_uri": "https://localhost:8080/"
        },
        "outputId": "1b255208-7bab-4814-c011-ac88d47495c6"
      },
      "source": [
        "sum = 0\n",
        "for i in range (0,10):\n",
        "  sum = i + sum\n",
        "print(sum)"
      ],
      "execution_count": 26,
      "outputs": [
        {
          "output_type": "stream",
          "name": "stdout",
          "text": [
            "45\n"
          ]
        }
      ]
    },
    {
      "cell_type": "markdown",
      "metadata": {
        "id": "cqn282nbBm8l"
      },
      "source": [
        "I can check this sum above by using the formula\n",
        "$$\n",
        "\\sum_{i=1}^ni=\\frac{n(n+1)}{2}\n",
        "$$"
      ]
    },
    {
      "cell_type": "code",
      "metadata": {
        "id": "5a02_XhBBkKq",
        "colab": {
          "base_uri": "https://localhost:8080/"
        },
        "outputId": "ed4a74e9-20d4-45a9-ef8f-c7ca89661fa5"
      },
      "source": [
        "n = 9\n",
        "n*(n+1)/2"
      ],
      "execution_count": 27,
      "outputs": [
        {
          "output_type": "execute_result",
          "data": {
            "text/plain": [
              "45.0"
            ]
          },
          "metadata": {},
          "execution_count": 27
        }
      ]
    },
    {
      "cell_type": "markdown",
      "metadata": {
        "id": "dG_5-9VOCG2s"
      },
      "source": [
        "Why did I use 9 when the range goes (0,10)?  The last number is not used in the range."
      ]
    },
    {
      "cell_type": "code",
      "metadata": {
        "id": "Bexm4pblCEnL",
        "colab": {
          "base_uri": "https://localhost:8080/"
        },
        "outputId": "0f5f8926-881d-4b84-dd29-bfa0e2873d3f"
      },
      "source": [
        "digits = [i for i in range (0,10)]\n",
        "digits"
      ],
      "execution_count": 28,
      "outputs": [
        {
          "output_type": "execute_result",
          "data": {
            "text/plain": [
              "[0, 1, 2, 3, 4, 5, 6, 7, 8, 9]"
            ]
          },
          "metadata": {},
          "execution_count": 28
        }
      ]
    },
    {
      "cell_type": "markdown",
      "metadata": {
        "id": "5oryA64_CeAr"
      },
      "source": [
        "You can also use for loops directly inside arrays."
      ]
    },
    {
      "cell_type": "code",
      "metadata": {
        "id": "IED6gWn3Ca5b",
        "colab": {
          "base_uri": "https://localhost:8080/"
        },
        "outputId": "67b1934a-4dba-4ed6-c13b-a978f3822e82"
      },
      "source": [
        "newSum = 0\n",
        "for number in digits:\n",
        "  newSum = newSum + number\n",
        "print(newSum)"
      ],
      "execution_count": 29,
      "outputs": [
        {
          "output_type": "stream",
          "name": "stdout",
          "text": [
            "45\n"
          ]
        }
      ]
    },
    {
      "cell_type": "markdown",
      "metadata": {
        "id": "ozezztK2C20l"
      },
      "source": [
        "In Jupyter notebooks, print() will always print or the last line of code will give an output if there is one to display."
      ]
    },
    {
      "cell_type": "code",
      "metadata": {
        "id": "4uXBtZ1WC0uK",
        "colab": {
          "base_uri": "https://localhost:8080/"
        },
        "outputId": "b32fd0cd-b8ef-408c-cf55-41d7d12b5774"
      },
      "source": [
        "newSum + 1 #Does not print\n",
        "sum #Is displayed"
      ],
      "execution_count": 30,
      "outputs": [
        {
          "output_type": "execute_result",
          "data": {
            "text/plain": [
              "45"
            ]
          },
          "metadata": {},
          "execution_count": 30
        }
      ]
    },
    {
      "cell_type": "markdown",
      "metadata": {
        "id": "aPxxRcSsDN1M"
      },
      "source": [
        "The octothorpe # is how you comment your code."
      ]
    },
    {
      "cell_type": "markdown",
      "metadata": {
        "id": "_-lEaAuDjgci"
      },
      "source": [
        "##Functions"
      ]
    },
    {
      "cell_type": "markdown",
      "metadata": {
        "id": "3DqtRSDvjjVm"
      },
      "source": [
        "You will need to use some built in functions as well as define your own.  "
      ]
    },
    {
      "cell_type": "code",
      "metadata": {
        "id": "jAzh_ce0DEjV",
        "colab": {
          "base_uri": "https://localhost:8080/"
        },
        "outputId": "e492c802-ce12-410b-be16-38efd32886b6"
      },
      "source": [
        "import math #this package contains many of the important mathematical functions\n",
        "\n",
        "math.exp(1) "
      ],
      "execution_count": 31,
      "outputs": [
        {
          "output_type": "execute_result",
          "data": {
            "text/plain": [
              "2.718281828459045"
            ]
          },
          "metadata": {},
          "execution_count": 31
        }
      ]
    },
    {
      "cell_type": "markdown",
      "metadata": {
        "id": "7Z2XHqqnj3a3"
      },
      "source": [
        "Above I imported the math package.  There are lots of things I think should work in python, pi, exp, sine, cosine.  That do work if you do math.pi, math.exp, math.sin, math.cos."
      ]
    },
    {
      "cell_type": "code",
      "metadata": {
        "id": "trkxcb01jzYo"
      },
      "source": [
        "def square(x):\n",
        "  return x*x"
      ],
      "execution_count": 32,
      "outputs": []
    },
    {
      "cell_type": "markdown",
      "metadata": {
        "id": "gck04MJ5kP3A"
      },
      "source": [
        "I defined a function above, indenting and notation is very similar to for loops.  You can have a function defined this way do multiple things (like a for loop) and give it multiple inputs.  I use my function below on a few values."
      ]
    },
    {
      "cell_type": "code",
      "metadata": {
        "id": "rNao5ohQkOnv",
        "colab": {
          "base_uri": "https://localhost:8080/"
        },
        "outputId": "abb04937-b346-4e39-8560-3e5c731d2c9e"
      },
      "source": [
        "for i in range(1,10,2):\n",
        "  print(square(i))"
      ],
      "execution_count": 33,
      "outputs": [
        {
          "output_type": "stream",
          "name": "stdout",
          "text": [
            "1\n",
            "9\n",
            "25\n",
            "49\n",
            "81\n"
          ]
        }
      ]
    },
    {
      "cell_type": "markdown",
      "metadata": {
        "id": "nDNjNjBbkzQ_"
      },
      "source": [
        "There is one last function definer that I have found very useful, lambda.  It alows you to define a function that is naked.  It can be passed to other functions without requiring a input first."
      ]
    },
    {
      "cell_type": "code",
      "metadata": {
        "id": "I-_s6SurkyRx"
      },
      "source": [
        "cube = lambda x: x**3"
      ],
      "execution_count": 34,
      "outputs": []
    },
    {
      "cell_type": "code",
      "metadata": {
        "id": "lmu4Jvn3kvTH",
        "colab": {
          "base_uri": "https://localhost:8080/"
        },
        "outputId": "98802257-36f2-4d1b-aa3a-9bfdae24a678"
      },
      "source": [
        "cube(3)"
      ],
      "execution_count": 35,
      "outputs": [
        {
          "output_type": "execute_result",
          "data": {
            "text/plain": [
              "27"
            ]
          },
          "metadata": {},
          "execution_count": 35
        }
      ]
    },
    {
      "cell_type": "code",
      "metadata": {
        "id": "ZvSpwJdolSlB",
        "colab": {
          "base_uri": "https://localhost:8080/"
        },
        "outputId": "c81ac12a-7698-4811-f0b1-886dbd2f69f9"
      },
      "source": [
        "square(cube(2))"
      ],
      "execution_count": 36,
      "outputs": [
        {
          "output_type": "execute_result",
          "data": {
            "text/plain": [
              "64"
            ]
          },
          "metadata": {},
          "execution_count": 36
        }
      ]
    },
    {
      "cell_type": "markdown",
      "metadata": {
        "id": "JnIXskL2lZlB"
      },
      "source": [
        "This may not seem helpful at the moment but I needed to learn about it to do some more clever programing here so I've at least shown it to you."
      ]
    },
    {
      "cell_type": "code",
      "metadata": {
        "id": "Ai9J99nPlX0J"
      },
      "source": [],
      "execution_count": 36,
      "outputs": []
    },
    {
      "cell_type": "markdown",
      "metadata": {
        "id": "0rG-mbNW3Euj"
      },
      "source": [
        "## Dictionary"
      ]
    },
    {
      "cell_type": "markdown",
      "metadata": {
        "id": "1xi8g5YO5G6K"
      },
      "source": [
        "I find dictionaries useful occasionally, so let's show them!"
      ]
    },
    {
      "cell_type": "code",
      "metadata": {
        "id": "FPBeQYb33Scr",
        "outputId": "c28f1b4c-d2c8-4202-8b49-e4622bc73979",
        "colab": {
          "base_uri": "https://localhost:8080/",
          "height": 142
        }
      },
      "source": [
        "dic = dict({1:'foo',2:42}) #This defines a dictonary that will change 1 to foo and 2 to 42\n",
        "\n",
        "dic.get(1) # the get command will change 1. "
      ],
      "execution_count": 37,
      "outputs": [
        {
          "output_type": "execute_result",
          "data": {
            "text/plain": [
              "'foo'"
            ],
            "application/vnd.google.colaboratory.intrinsic+json": {
              "type": "string"
            }
          },
          "metadata": {},
          "execution_count": 37
        }
      ]
    },
    {
      "cell_type": "code",
      "metadata": {
        "id": "mXjQ5h_w4hXK",
        "outputId": "d3f52d7c-1d36-449f-bef3-6e9fa39706f6",
        "colab": {
          "base_uri": "https://localhost:8080/"
        }
      },
      "source": [
        "myList = [1,2,3,4,'foo']\n",
        "\n",
        "newList = [dic.get(x,x) for x in myList ] #This applied the dictionary without changing the unknowns\n",
        "\n",
        "newList"
      ],
      "execution_count": 38,
      "outputs": [
        {
          "output_type": "execute_result",
          "data": {
            "text/plain": [
              "['foo', 42, 3, 4, 'foo']"
            ]
          },
          "metadata": {},
          "execution_count": 38
        }
      ]
    },
    {
      "cell_type": "code",
      "metadata": {
        "id": "eRAGv6EO5Ihq",
        "outputId": "3ec64c01-78cc-4d0b-92e6-f3d7549911b8",
        "colab": {
          "base_uri": "https://localhost:8080/"
        }
      },
      "source": [
        "newestList = [dic.get(x) for x in myList] #This one changes everything.\n",
        "newestList"
      ],
      "execution_count": 39,
      "outputs": [
        {
          "output_type": "execute_result",
          "data": {
            "text/plain": [
              "['foo', 42, None, None, None]"
            ]
          },
          "metadata": {},
          "execution_count": 39
        }
      ]
    },
    {
      "cell_type": "markdown",
      "metadata": {
        "id": "o00DFauP7qAD"
      },
      "source": [
        "If I wanted a dictionary to only deal with the values that were translated I might do something like the following"
      ]
    },
    {
      "cell_type": "code",
      "metadata": {
        "id": "EEdK8_Zm_7Gs",
        "outputId": "bb5a897c-b59c-41ce-ede9-1fcf41b56266",
        "colab": {
          "base_uri": "https://localhost:8080/"
        }
      },
      "source": [
        "[dic.get(x) for x in myList if dic.get(x) or ()]#only puts items in the list it changes"
      ],
      "execution_count": 40,
      "outputs": [
        {
          "output_type": "execute_result",
          "data": {
            "text/plain": [
              "['foo', 42]"
            ]
          },
          "metadata": {},
          "execution_count": 40
        }
      ]
    },
    {
      "cell_type": "markdown",
      "metadata": {
        "id": "xVBc9_Es6aIk"
      },
      "source": [
        "##Graphing"
      ]
    },
    {
      "cell_type": "markdown",
      "metadata": {
        "id": "9c0TV_8H6dn8"
      },
      "source": [
        "Graphing and visualizations are an important part of mathematics and understanding the numerical properties we are exploring.  I will utilize the matplotlib library (it does the graphing following the gramar of graphics) and the numpy package that allows us to do math on arrays."
      ]
    },
    {
      "cell_type": "code",
      "metadata": {
        "id": "Z-wfXSfq6cga",
        "colab": {
          "base_uri": "https://localhost:8080/",
          "height": 54
        },
        "outputId": "44f1b877-9760-4e0b-f09a-9a20fd2fce74"
      },
      "source": [
        "import matplotlib.pyplot as plt\n",
        "import numpy as np\n",
        "\n",
        "x = np.arange( -8,10,.001) #give a range and step size\n",
        "plt.scatter(math.pi/4,math.sqrt(2)/2) #Plot a point\n",
        "plt.plot(x, np.sin(x)) #graphs the function\n",
        "plt.title('Graph of ' r'$\\sin x$') #title with equation inserted!\n",
        "plt.legend( ['Sine Wave']) #legend\n",
        "\n",
        "plt.show()"
      ],
      "execution_count": 41,
      "outputs": [
        {
          "output_type": "display_data",
          "data": {
            "text/plain": [
              "<Figure size 432x288 with 1 Axes>"
            ],
            "image/png": "[encoded data removed]"
          },
          "metadata": {
            "needs_background": "light"
          }
        }
      ]
    },
    {
      "cell_type": "markdown",
      "metadata": {
        "id": "vgdOygnYjlyN"
      },
      "source": [
        "##Numpy and Matricies"
      ]
    },
    {
      "cell_type": "markdown",
      "metadata": {
        "id": "zLU_7COujpXY"
      },
      "source": [
        "For module 4 and those beyond, we will need to deal with matricies in python.  The numpy package has some great tools for doing some of this work.\n",
        "\n",
        "First thing to notice is that there are regular arrays which can be any shape or size and numpy arrays don't do well if they are not."
      ]
    },
    {
      "cell_type": "code",
      "metadata": {
        "id": "g_ph-YnF7Jqk",
        "colab": {
          "base_uri": "https://localhost:8080/"
        },
        "outputId": "8fcda673-3670-41aa-e5fc-f54349c6fd8f"
      },
      "source": [
        "p =[1,[1,2]]#an array\n",
        "p1 = np.array([1,[1,2]]) #a numpy array but the second element is itself a list."
      ],
      "execution_count": 42,
      "outputs": [
        {
          "output_type": "stream",
          "name": "stderr",
          "text": [
            "<ipython-input-42-07c75bfd4494>:2: VisibleDeprecationWarning: Creating an ndarray from ragged nested sequences (which is a list-or-tuple of lists-or-tuples-or ndarrays with different lengths or shapes) is deprecated. If you meant to do this, you must specify 'dtype=object' when creating the ndarray.\n",
            "  p1 = np.array([1,[1,2]]) #a numpy array but the second element is itself a list.\n"
          ]
        }
      ]
    },
    {
      "cell_type": "markdown",
      "metadata": {
        "id": "ceK_yWdwk7-q"
      },
      "source": [
        "Let's do a more complicated thing and consider a larger numpy array."
      ]
    },
    {
      "cell_type": "code",
      "metadata": {
        "id": "OUkQBL9EkWNG",
        "colab": {
          "base_uri": "https://localhost:8080/"
        },
        "outputId": "bcfa42f5-e0fe-40ce-ff83-a2d558c860a2"
      },
      "source": [
        "A = np.array([[1,2,3,4],[5,6,7,8]])\n",
        "A"
      ],
      "execution_count": 43,
      "outputs": [
        {
          "output_type": "execute_result",
          "data": {
            "text/plain": [
              "array([[1, 2, 3, 4],\n",
              "       [5, 6, 7, 8]])"
            ]
          },
          "metadata": {},
          "execution_count": 43
        }
      ]
    },
    {
      "cell_type": "markdown",
      "metadata": {
        "id": "UjpSaM1SlJwN"
      },
      "source": [
        "You can get single elements using the row and comlumn"
      ]
    },
    {
      "cell_type": "code",
      "metadata": {
        "id": "Tv68ypiokdw8",
        "colab": {
          "base_uri": "https://localhost:8080/"
        },
        "outputId": "2634361d-32fb-4355-a64c-308dff8fb474"
      },
      "source": [
        "A[0,2]#python starts counting at 0"
      ],
      "execution_count": 44,
      "outputs": [
        {
          "output_type": "execute_result",
          "data": {
            "text/plain": [
              "3"
            ]
          },
          "metadata": {},
          "execution_count": 44
        }
      ]
    },
    {
      "cell_type": "markdown",
      "metadata": {
        "id": "IebiAat-lYKa"
      },
      "source": [
        "Or you can get entire rows (or columns) using :"
      ]
    },
    {
      "cell_type": "code",
      "metadata": {
        "id": "U8lGJ1V-lSgh",
        "colab": {
          "base_uri": "https://localhost:8080/"
        },
        "outputId": "69eb700c-002f-49d2-935d-2b3f7c910604"
      },
      "source": [
        "A[0,:]"
      ],
      "execution_count": 45,
      "outputs": [
        {
          "output_type": "execute_result",
          "data": {
            "text/plain": [
              "array([1, 2, 3, 4])"
            ]
          },
          "metadata": {},
          "execution_count": 45
        }
      ]
    },
    {
      "cell_type": "code",
      "metadata": {
        "id": "s36T8UpYlfzv",
        "colab": {
          "base_uri": "https://localhost:8080/"
        },
        "outputId": "96875d2f-9fd9-4267-9e70-b31e7a80c05a"
      },
      "source": [
        "A[:,1]"
      ],
      "execution_count": 46,
      "outputs": [
        {
          "output_type": "execute_result",
          "data": {
            "text/plain": [
              "array([2, 6])"
            ]
          },
          "metadata": {},
          "execution_count": 46
        }
      ]
    },
    {
      "cell_type": "markdown",
      "metadata": {
        "id": "EXp3mqOzlkaX"
      },
      "source": [
        "You can also get the last time or items in a range."
      ]
    },
    {
      "cell_type": "code",
      "metadata": {
        "id": "WdVIZYeflh8J",
        "colab": {
          "base_uri": "https://localhost:8080/"
        },
        "outputId": "ea1f05d9-ae1a-418c-a895-01f0fe9eb7cc"
      },
      "source": [
        "A[:,-1]"
      ],
      "execution_count": 47,
      "outputs": [
        {
          "output_type": "execute_result",
          "data": {
            "text/plain": [
              "array([4, 8])"
            ]
          },
          "metadata": {},
          "execution_count": 47
        }
      ]
    },
    {
      "cell_type": "code",
      "metadata": {
        "id": "eLfiEoD1lrpA",
        "colab": {
          "base_uri": "https://localhost:8080/"
        },
        "outputId": "cd8b302f-ad73-462c-c2d5-848731964e8a"
      },
      "source": [
        "A[1,2:4]"
      ],
      "execution_count": 48,
      "outputs": [
        {
          "output_type": "execute_result",
          "data": {
            "text/plain": [
              "array([7, 8])"
            ]
          },
          "metadata": {},
          "execution_count": 48
        }
      ]
    },
    {
      "cell_type": "markdown",
      "metadata": {
        "id": "LPZQfrxomI2g"
      },
      "source": [
        "Martrix addition and multiplication by a scalar is possible"
      ]
    },
    {
      "cell_type": "code",
      "metadata": {
        "id": "owMl99VPl38q",
        "colab": {
          "base_uri": "https://localhost:8080/"
        },
        "outputId": "c24d2870-b67b-4e7e-b1b9-a617cf104e30"
      },
      "source": [
        "3*A"
      ],
      "execution_count": 49,
      "outputs": [
        {
          "output_type": "execute_result",
          "data": {
            "text/plain": [
              "array([[ 3,  6,  9, 12],\n",
              "       [15, 18, 21, 24]])"
            ]
          },
          "metadata": {},
          "execution_count": 49
        }
      ]
    },
    {
      "cell_type": "code",
      "metadata": {
        "id": "UHllsONQmQGX",
        "colab": {
          "base_uri": "https://localhost:8080/"
        },
        "outputId": "45bddcf9-52c9-47da-c9c7-1348c568f2d1"
      },
      "source": [
        "3*A + np.eye(2,4) #eye is the identity one on the diagonal and zero elsewhere"
      ],
      "execution_count": 50,
      "outputs": [
        {
          "output_type": "execute_result",
          "data": {
            "text/plain": [
              "array([[ 4.,  6.,  9., 12.],\n",
              "       [15., 19., 21., 24.]])"
            ]
          },
          "metadata": {},
          "execution_count": 50
        }
      ]
    },
    {
      "cell_type": "code",
      "metadata": {
        "id": "cUbD_gBRmZTY",
        "colab": {
          "base_uri": "https://localhost:8080/"
        },
        "outputId": "0b67df9b-a2b1-46c0-e897-22b4b7635568"
      },
      "source": [
        "np.transpose(A) @ A #multiplying by the transpose wiht the @ symbol"
      ],
      "execution_count": 51,
      "outputs": [
        {
          "output_type": "execute_result",
          "data": {
            "text/plain": [
              "array([[26, 32, 38, 44],\n",
              "       [32, 40, 48, 56],\n",
              "       [38, 48, 58, 68],\n",
              "       [44, 56, 68, 80]])"
            ]
          },
          "metadata": {},
          "execution_count": 51
        }
      ]
    },
    {
      "cell_type": "code",
      "metadata": {
        "id": "rz7VnRj7mpQE",
        "colab": {
          "base_uri": "https://localhost:8080/"
        },
        "outputId": "1b9acfe1-7582-476c-b355-c3cd196a35dc"
      },
      "source": [
        "B = A @ np.transpose(A)\n",
        "B"
      ],
      "execution_count": 52,
      "outputs": [
        {
          "output_type": "execute_result",
          "data": {
            "text/plain": [
              "array([[ 30,  70],\n",
              "       [ 70, 174]])"
            ]
          },
          "metadata": {},
          "execution_count": 52
        }
      ]
    },
    {
      "cell_type": "markdown",
      "metadata": {
        "id": "Kt8ahG3Snjco"
      },
      "source": [
        "We can also compute the inverse of a square matrix."
      ]
    },
    {
      "cell_type": "code",
      "metadata": {
        "id": "PDr_szoNmtKw",
        "colab": {
          "base_uri": "https://localhost:8080/"
        },
        "outputId": "63213038-9ceb-4c11-9997-6386d777d924"
      },
      "source": [
        "C = np.linalg.inv(B)\n",
        "C"
      ],
      "execution_count": 53,
      "outputs": [
        {
          "output_type": "execute_result",
          "data": {
            "text/plain": [
              "array([[ 0.54375, -0.21875],\n",
              "       [-0.21875,  0.09375]])"
            ]
          },
          "metadata": {},
          "execution_count": 53
        }
      ]
    },
    {
      "cell_type": "code",
      "metadata": {
        "id": "VWtX9EClm4Bn",
        "colab": {
          "base_uri": "https://localhost:8080/"
        },
        "outputId": "71d10f7e-1d6e-4bfa-d8cc-00f837bd7080"
      },
      "source": [
        "B @ C"
      ],
      "execution_count": 54,
      "outputs": [
        {
          "output_type": "execute_result",
          "data": {
            "text/plain": [
              "array([[1.00000000e+00, 2.49800181e-16],\n",
              "       [1.99840144e-15, 1.00000000e+00]])"
            ]
          },
          "metadata": {},
          "execution_count": 54
        }
      ]
    },
    {
      "cell_type": "code",
      "metadata": {
        "id": "ZFVnr5c6nAG_",
        "colab": {
          "base_uri": "https://localhost:8080/"
        },
        "outputId": "f8973e46-d7c0-4665-9cc4-454f4b5ee086"
      },
      "source": [
        "C @ B"
      ],
      "execution_count": 55,
      "outputs": [
        {
          "output_type": "execute_result",
          "data": {
            "text/plain": [
              "array([[ 1.00000000e+00,  6.82787160e-15],\n",
              "       [-6.38378239e-16,  1.00000000e+00]])"
            ]
          },
          "metadata": {},
          "execution_count": 55
        }
      ]
    },
    {
      "cell_type": "code",
      "metadata": {
        "id": "NAq1rV73nh3M"
      },
      "source": [],
      "execution_count": 55,
      "outputs": []
    }
  ]
}