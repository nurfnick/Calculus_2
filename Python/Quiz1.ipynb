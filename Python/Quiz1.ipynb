{
  "nbformat": 4,
  "nbformat_minor": 0,
  "metadata": {
    "colab": {
      "provenance": [],
      "authorship_tag": "ABX9TyNq5ywy9pKueF2ks2DE2eO4",
      "include_colab_link": true
    },
    "kernelspec": {
      "name": "python3",
      "display_name": "Python 3"
    },
    "language_info": {
      "name": "python"
    }
  },
  "cells": [
    {
      "cell_type": "markdown",
      "metadata": {
        "id": "view-in-github",
        "colab_type": "text"
      },
      "source": [
        "<a href=\"https://colab.research.google.com/github/nurfnick/Calculus_2/blob/main/Python/Quiz1.ipynb\" target=\"_parent\"><img src=\"https://colab.research.google.com/assets/colab-badge.svg\" alt=\"Open In Colab\"/></a>"
      ]
    },
    {
      "cell_type": "markdown",
      "source": [
        "#Quiz 1 in Python\n",
        "\n",
        "##By: [Nicholas Jacob](https://github.com/nurfnick)\n",
        "\n",
        "###An Exercise in Derivatives and Integrals"
      ],
      "metadata": {
        "id": "8PbgFO1furC2"
      }
    },
    {
      "cell_type": "code",
      "execution_count": 17,
      "metadata": {
        "id": "HkSV6Ma9uanT"
      },
      "outputs": [],
      "source": [
        "from sympy import *\n",
        "\n",
        "x,y = symbols(['x','y'])\n"
      ]
    },
    {
      "cell_type": "code",
      "source": [
        "g = cos(x**2-1)\n",
        "\n",
        "g"
      ],
      "metadata": {
        "colab": {
          "base_uri": "https://localhost:8080/",
          "height": 39
        },
        "id": "O-kNVnv-vFws",
        "outputId": "ef6d474b-588f-4772-f067-bf71b60c8394"
      },
      "execution_count": 12,
      "outputs": [
        {
          "output_type": "execute_result",
          "data": {
            "text/plain": [
              "cos(x**2 - 1)"
            ],
            "text/latex": "$\\displaystyle \\cos{\\left(x^{2} - 1 \\right)}$"
          },
          "metadata": {},
          "execution_count": 12
        }
      ]
    },
    {
      "cell_type": "code",
      "source": [
        "g.diff(x)"
      ],
      "metadata": {
        "colab": {
          "base_uri": "https://localhost:8080/",
          "height": 39
        },
        "id": "iWv1Kn65vW5o",
        "outputId": "3df36792-2954-4ffd-8cd1-cb23a14b80da"
      },
      "execution_count": 13,
      "outputs": [
        {
          "output_type": "execute_result",
          "data": {
            "text/plain": [
              "-2*x*sin(x**2 - 1)"
            ],
            "text/latex": "$\\displaystyle - 2 x \\sin{\\left(x^{2} - 1 \\right)}$"
          },
          "metadata": {},
          "execution_count": 13
        }
      ]
    },
    {
      "cell_type": "code",
      "source": [
        "diff(g,y)"
      ],
      "metadata": {
        "colab": {
          "base_uri": "https://localhost:8080/",
          "height": 37
        },
        "id": "jb6Oip-uwouP",
        "outputId": "4cc33903-d15b-46ab-cd3a-00c150695b30"
      },
      "execution_count": 18,
      "outputs": [
        {
          "output_type": "execute_result",
          "data": {
            "text/plain": [
              "0"
            ],
            "text/latex": "$\\displaystyle 0$"
          },
          "metadata": {},
          "execution_count": 18
        }
      ]
    },
    {
      "cell_type": "code",
      "source": [
        "f = (x**5-3*x**3+1)/sqrt(x**2-1)\n",
        "\n",
        "f"
      ],
      "metadata": {
        "colab": {
          "base_uri": "https://localhost:8080/",
          "height": 58
        },
        "id": "-Mi04o4ZvYfJ",
        "outputId": "4b520d4f-7b2c-4614-c2c7-a8b9832618cc"
      },
      "execution_count": 19,
      "outputs": [
        {
          "output_type": "execute_result",
          "data": {
            "text/plain": [
              "(x**5 - 3*x**3 + 1)/sqrt(x**2 - 1)"
            ],
            "text/latex": "$\\displaystyle \\frac{x^{5} - 3 x^{3} + 1}{\\sqrt{x^{2} - 1}}$"
          },
          "metadata": {},
          "execution_count": 19
        }
      ]
    },
    {
      "cell_type": "code",
      "source": [
        "h = (x**2-2*x+3)/x\n",
        "\n",
        "h"
      ],
      "metadata": {
        "colab": {
          "base_uri": "https://localhost:8080/",
          "height": 54
        },
        "id": "IEHVGpAHvlxJ",
        "outputId": "7875a264-cb94-4ba2-8409-da041e32255e"
      },
      "execution_count": 22,
      "outputs": [
        {
          "output_type": "execute_result",
          "data": {
            "text/plain": [
              "(x**2 - 2*x + 3)/x"
            ],
            "text/latex": "$\\displaystyle \\frac{x^{2} - 2 x + 3}{x}$"
          },
          "metadata": {},
          "execution_count": 22
        }
      ]
    },
    {
      "cell_type": "code",
      "source": [
        "h.simplify()"
      ],
      "metadata": {
        "colab": {
          "base_uri": "https://localhost:8080/",
          "height": 51
        },
        "id": "EljSgZZyyk7Z",
        "outputId": "5c93a8e8-b33a-4d10-a1e9-cc9f12579fa6"
      },
      "execution_count": 23,
      "outputs": [
        {
          "output_type": "execute_result",
          "data": {
            "text/plain": [
              "x - 2 + 3/x"
            ],
            "text/latex": "$\\displaystyle x - 2 + \\frac{3}{x}$"
          },
          "metadata": {},
          "execution_count": 23
        }
      ]
    },
    {
      "cell_type": "code",
      "source": [
        "h.integrate(x)"
      ],
      "metadata": {
        "colab": {
          "base_uri": "https://localhost:8080/",
          "height": 54
        },
        "id": "rlBgmsZuyqiC",
        "outputId": "acc6c7f0-f047-47af-8e1b-f99914d11b0c"
      },
      "execution_count": 24,
      "outputs": [
        {
          "output_type": "execute_result",
          "data": {
            "text/plain": [
              "x**2/2 - 2*x + 3*log(x)"
            ],
            "text/latex": "$\\displaystyle \\frac{x^{2}}{2} - 2 x + 3 \\log{\\left(x \\right)}$"
          },
          "metadata": {},
          "execution_count": 24
        }
      ]
    },
    {
      "cell_type": "code",
      "source": [],
      "metadata": {
        "id": "lU5xG9GnyvNl"
      },
      "execution_count": null,
      "outputs": []
    }
  ]
}