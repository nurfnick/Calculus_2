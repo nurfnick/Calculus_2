{
  "nbformat": 4,
  "nbformat_minor": 0,
  "metadata": {
    "colab": {
      "provenance": [],
      "authorship_tag": "ABX9TyO+YHrYgQA360X3wnFJYxIf",
      "include_colab_link": true
    },
    "kernelspec": {
      "name": "python3",
      "display_name": "Python 3"
    },
    "language_info": {
      "name": "python"
    }
  },
  "cells": [
    {
      "cell_type": "markdown",
      "metadata": {
        "id": "view-in-github",
        "colab_type": "text"
      },
      "source": [
        "<a href=\"https://colab.research.google.com/github/nurfnick/Calculus_2/blob/main/Python/Quiz0407.ipynb\" target=\"_parent\"><img src=\"https://colab.research.google.com/assets/colab-badge.svg\" alt=\"Open In Colab\"/></a>"
      ]
    },
    {
      "cell_type": "markdown",
      "source": [
        "#Quiz 4/7\n",
        "\n",
        "Find the interval of convergence for the following series.\n",
        "\n",
        "$$\n",
        "\\sum_{n=0}^\\infty \\frac{\\left(-1\\right)^n\\left(x+5\\right)^n}{n3^n}\n",
        "$$"
      ],
      "metadata": {
        "id": "_zV-yuT9jPio"
      }
    },
    {
      "cell_type": "code",
      "execution_count": 1,
      "metadata": {
        "id": "JcO1mmhejO_2"
      },
      "outputs": [],
      "source": [
        "from sympy import *"
      ]
    },
    {
      "cell_type": "code",
      "source": [
        "x,n = symbols('x,n')"
      ],
      "metadata": {
        "id": "9CEuz5gSjo4J"
      },
      "execution_count": 4,
      "outputs": []
    },
    {
      "cell_type": "code",
      "source": [
        "f = Sum((-1)**n*(x+5)**n/(n*3**n),(n,0,oo))\n",
        "\n",
        "f"
      ],
      "metadata": {
        "colab": {
          "base_uri": "https://localhost:8080/",
          "height": 66
        },
        "id": "Ub6TW_ktjrta",
        "outputId": "2599a0e7-3017-4c18-eb41-85f8e8bf24b1"
      },
      "execution_count": 6,
      "outputs": [
        {
          "output_type": "execute_result",
          "data": {
            "text/plain": [
              "Sum((-1)**n*(x + 5)**n/(3**n*n), (n, 0, oo))"
            ],
            "text/latex": "$\\displaystyle \\sum_{n=0}^{\\infty} \\frac{\\left(-1\\right)^{n} 3^{- n} \\left(x + 5\\right)^{n}}{n}$"
          },
          "metadata": {},
          "execution_count": 6
        }
      ]
    },
    {
      "cell_type": "code",
      "source": [
        "f.subs(x,-4)"
      ],
      "metadata": {
        "colab": {
          "base_uri": "https://localhost:8080/",
          "height": 66
        },
        "id": "77jPTOvij6Sq",
        "outputId": "f33237bd-621c-4599-ad6e-15c727be56f6"
      },
      "execution_count": 9,
      "outputs": [
        {
          "output_type": "execute_result",
          "data": {
            "text/plain": [
              "Sum((-1)**n/(3**n*n), (n, 0, oo))"
            ],
            "text/latex": "$\\displaystyle \\sum_{n=0}^{\\infty} \\frac{\\left(-1\\right)^{n} 3^{- n}}{n}$"
          },
          "metadata": {},
          "execution_count": 9
        }
      ]
    },
    {
      "cell_type": "code",
      "source": [
        "a = (-1)**n*(x+5)**n/(n*3**n)"
      ],
      "metadata": {
        "id": "B1AMo3wukjPG"
      },
      "execution_count": 10,
      "outputs": []
    },
    {
      "cell_type": "code",
      "source": [
        "limit(a.subs(n,n+1)/a,n,oo)"
      ],
      "metadata": {
        "colab": {
          "base_uri": "https://localhost:8080/",
          "height": 51
        },
        "id": "sDtQP5Z2lov8",
        "outputId": "4e61acc6-91ad-4c58-f455-d525778cc684"
      },
      "execution_count": 13,
      "outputs": [
        {
          "output_type": "execute_result",
          "data": {
            "text/plain": [
              "-x/3 - 5/3"
            ],
            "text/latex": "$\\displaystyle - \\frac{x}{3} - \\frac{5}{3}$"
          },
          "metadata": {},
          "execution_count": 13
        }
      ]
    },
    {
      "cell_type": "code",
      "source": [
        "solve(abs(-x/3-5/3)<1,x)"
      ],
      "metadata": {
        "colab": {
          "base_uri": "https://localhost:8080/",
          "height": 39
        },
        "id": "-CL_YQOLluj9",
        "outputId": "9524e80b-e70c-4390-d222-703a0bd9f4ba"
      },
      "execution_count": 16,
      "outputs": [
        {
          "output_type": "execute_result",
          "data": {
            "text/plain": [
              "(-8.0 < x) & (x < -2.0)"
            ],
            "text/latex": "$\\displaystyle -8.0 < x \\wedge x < -2.0$"
          },
          "metadata": {},
          "execution_count": 16
        }
      ]
    },
    {
      "cell_type": "code",
      "source": [
        "f.subs(x,-8).simplify()#didn't work..."
      ],
      "metadata": {
        "colab": {
          "base_uri": "https://localhost:8080/",
          "height": 66
        },
        "id": "Szenf5_hl7qm",
        "outputId": "7329fb47-70b4-4209-8fe4-806f184db176"
      },
      "execution_count": 18,
      "outputs": [
        {
          "output_type": "execute_result",
          "data": {
            "text/plain": [
              "Sum((-1)**n*(-3)**n/(3**n*n), (n, 0, oo))"
            ],
            "text/latex": "$\\displaystyle \\sum_{n=0}^{\\infty} \\frac{\\left(-1\\right)^{n} \\left(-3\\right)^{n} 3^{- n}}{n}$"
          },
          "metadata": {},
          "execution_count": 18
        }
      ]
    },
    {
      "cell_type": "code",
      "source": [
        "a.subs(x,-8).cancel()#neither did that..."
      ],
      "metadata": {
        "colab": {
          "base_uri": "https://localhost:8080/",
          "height": 54
        },
        "id": "U5cHy1qImKnv",
        "outputId": "98b53209-2b12-4ced-dbff-d2c2961c63dd"
      },
      "execution_count": 23,
      "outputs": [
        {
          "output_type": "execute_result",
          "data": {
            "text/plain": [
              "(-1)**n*(-3)**n/(3**n*n)"
            ],
            "text/latex": "$\\displaystyle \\frac{\\left(-1\\right)^{n} \\left(-3\\right)^{n} 3^{- n}}{n}$"
          },
          "metadata": {},
          "execution_count": 23
        }
      ]
    },
    {
      "cell_type": "markdown",
      "source": [
        "Harmonic is divergent..."
      ],
      "metadata": {
        "id": "PPm5Wkv9m4y7"
      }
    },
    {
      "cell_type": "code",
      "source": [
        "f.subs(x,-2).simplify()"
      ],
      "metadata": {
        "colab": {
          "base_uri": "https://localhost:8080/",
          "height": 66
        },
        "id": "bvx3HKkXmX17",
        "outputId": "17ac55ed-0854-4b32-b1b1-277dc0b0267e"
      },
      "execution_count": 24,
      "outputs": [
        {
          "output_type": "execute_result",
          "data": {
            "text/plain": [
              "Sum((-1)**n/n, (n, 0, oo))"
            ],
            "text/latex": "$\\displaystyle \\sum_{n=0}^{\\infty} \\frac{\\left(-1\\right)^{n}}{n}$"
          },
          "metadata": {},
          "execution_count": 24
        }
      ]
    },
    {
      "cell_type": "markdown",
      "source": [
        "This one simplified.  Alternating harmonic is convegent!"
      ],
      "metadata": {
        "id": "QETv4WsmnG50"
      }
    },
    {
      "cell_type": "code",
      "source": [
        "f.subs(x,-2).simplify()"
      ],
      "metadata": {
        "colab": {
          "base_uri": "https://localhost:8080/",
          "height": 66
        },
        "id": "Jdaw9fUbm_rk",
        "outputId": "397b568a-96bd-4af1-8f41-2e7b0a35e235"
      },
      "execution_count": 29,
      "outputs": [
        {
          "output_type": "execute_result",
          "data": {
            "text/plain": [
              "Sum((-1)**n/n, (n, 0, oo))"
            ],
            "text/latex": "$\\displaystyle \\sum_{n=0}^{\\infty} \\frac{\\left(-1\\right)^{n}}{n}$"
          },
          "metadata": {},
          "execution_count": 29
        }
      ]
    },
    {
      "cell_type": "markdown",
      "source": [
        "I could not get `sympy` to give me a result here.  Might have to do with the conditional convergence?"
      ],
      "metadata": {
        "id": "_goTyXq9nj3f"
      }
    },
    {
      "cell_type": "code",
      "source": [
        "f.subs(x,-6).simplify().doit()"
      ],
      "metadata": {
        "colab": {
          "base_uri": "https://localhost:8080/",
          "height": 37
        },
        "id": "AOjLz-vpnxhR",
        "outputId": "d5771e55-c7e7-4f9a-8f97-b8692a9bd1a3"
      },
      "execution_count": 33,
      "outputs": [
        {
          "output_type": "execute_result",
          "data": {
            "text/plain": [
              "zoo"
            ],
            "text/latex": "$\\displaystyle \\tilde{\\infty}$"
          },
          "metadata": {},
          "execution_count": 33
        }
      ]
    },
    {
      "cell_type": "markdown",
      "source": [
        "Nope, this one is absolutely convergent.  I am not sure why I cannot get a numerical solution here."
      ],
      "metadata": {
        "id": "6LS46aLhn--V"
      }
    },
    {
      "cell_type": "code",
      "source": [],
      "metadata": {
        "id": "V2BzUbkMn0Yp"
      },
      "execution_count": null,
      "outputs": []
    }
  ]
}