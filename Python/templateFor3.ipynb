{
  "nbformat": 4,
  "nbformat_minor": 0,
  "metadata": {
    "colab": {
      "provenance": [],
      "authorship_tag": "ABX9TyPWPR/unQFahdrLDkO0/oti",
      "include_colab_link": true
    },
    "kernelspec": {
      "name": "python3",
      "display_name": "Python 3"
    },
    "language_info": {
      "name": "python"
    }
  },
  "cells": [
    {
      "cell_type": "markdown",
      "metadata": {
        "id": "view-in-github",
        "colab_type": "text"
      },
      "source": [
        "<a href=\"https://colab.research.google.com/github/nurfnick/Calculus_2/blob/main/Python/templateFor3.ipynb\" target=\"_parent\"><img src=\"https://colab.research.google.com/assets/colab-badge.svg\" alt=\"Open In Colab\"/></a>"
      ]
    },
    {
      "cell_type": "markdown",
      "source": [
        "# Calculus II Computer Programming Lab #___\n",
        "## By:\n",
        "## Instructor: [Nicholas C Jacob](https://github.com/nurfnick)"
      ],
      "metadata": {
        "id": "gPrNBZ3utZsJ"
      }
    },
    {
      "cell_type": "markdown",
      "source": [
        "## Package Loading"
      ],
      "metadata": {
        "id": "5voIYGXauM9V"
      }
    },
    {
      "cell_type": "code",
      "execution_count": 1,
      "metadata": {
        "id": "HFzu_cnmtLI_"
      },
      "outputs": [],
      "source": [
        "from sympy import *\n",
        "import matplotlib.pyplot as plt\n",
        "\n",
        "x = symbols('x')\n",
        "\n"
      ]
    },
    {
      "cell_type": "markdown",
      "source": [
        "## Number 1:  A little description about what you are doing"
      ],
      "metadata": {
        "id": "rILmx1FLuRVd"
      }
    },
    {
      "cell_type": "markdown",
      "source": [
        "To get infinity use `oo`\n",
        "$$\n",
        "\\lim_{x\\to\\infty}\\frac1{x^2} = 0\n",
        "$$"
      ],
      "metadata": {
        "id": "Il_uxvtsdSZU"
      }
    },
    {
      "cell_type": "code",
      "source": [
        "limit(1/x**2,x,oo)"
      ],
      "metadata": {
        "id": "vm8pGcmuuSzy",
        "outputId": "fa4ff86d-ae9c-4884-e726-1dba697fce32",
        "colab": {
          "base_uri": "https://localhost:8080/",
          "height": 37
        }
      },
      "execution_count": 4,
      "outputs": [
        {
          "output_type": "execute_result",
          "data": {
            "text/plain": [
              "0"
            ],
            "text/latex": "$\\displaystyle 0$"
          },
          "metadata": {},
          "execution_count": 4
        }
      ]
    },
    {
      "cell_type": "markdown",
      "source": [
        "## Number 2: Some description you can write after you've got started"
      ],
      "metadata": {
        "id": "D0vSa13FuTW8"
      }
    },
    {
      "cell_type": "markdown",
      "source": [
        "The `sympy` package will not work for discrete values (at least I couldn't get it to)  Instead use something like the following code:"
      ],
      "metadata": {
        "id": "9TlP8Tpsdi5T"
      }
    },
    {
      "cell_type": "code",
      "source": [
        "g = x**(20)/(factorial(x)+x**2)\n",
        "g"
      ],
      "metadata": {
        "id": "Yih9noYwuU_n",
        "outputId": "3d007a99-002e-4267-8780-bc0e6aae521f",
        "colab": {
          "base_uri": "https://localhost:8080/",
          "height": 55
        }
      },
      "execution_count": 5,
      "outputs": [
        {
          "output_type": "execute_result",
          "data": {
            "text/plain": [
              "x**20/(x**2 + factorial(x))"
            ],
            "text/latex": "$\\displaystyle \\frac{x^{20}}{x^{2} + x!}$"
          },
          "metadata": {},
          "execution_count": 5
        }
      ]
    },
    {
      "cell_type": "code",
      "source": [
        "xs = [i for i in range(21)]\n",
        "ys = [N(g.subs(x,y)) for y in xs]\n",
        "\n",
        "plt.plot(xs,ys,'bo')"
      ],
      "metadata": {
        "id": "1cfNIsezd8vE",
        "outputId": "3dabbf0f-eb5a-432a-84fe-6b3351f96403",
        "colab": {
          "base_uri": "https://localhost:8080/",
          "height": 293
        }
      },
      "execution_count": 7,
      "outputs": [
        {
          "output_type": "execute_result",
          "data": {
            "text/plain": [
              "[<matplotlib.lines.Line2D at 0x7fc7600601f0>]"
            ]
          },
          "metadata": {},
          "execution_count": 7
        },
        {
          "output_type": "display_data",
          "data": {
            "text/plain": [
              "<Figure size 432x288 with 1 Axes>"
            ],
            "image/png": "[encoded data removed]"
          },
          "metadata": {
            "needs_background": "light"
          }
        }
      ]
    },
    {
      "cell_type": "markdown",
      "source": [
        "## Number 3:  I think there are 3 questions on most..."
      ],
      "metadata": {
        "id": "cC65xvbsuWIb"
      }
    },
    {
      "cell_type": "code",
      "source": [
        "h = 1/x**2\n",
        "\n",
        "Sum(h,(x,1,50))"
      ],
      "metadata": {
        "id": "gaPKEZbmuXkS",
        "outputId": "f22e06c5-0d0a-499c-881e-4f86eef9af5f",
        "colab": {
          "base_uri": "https://localhost:8080/",
          "height": 69
        }
      },
      "execution_count": 19,
      "outputs": [
        {
          "output_type": "execute_result",
          "data": {
            "text/plain": [
              "Sum(x**(-2), (x, 1, 50))"
            ],
            "text/latex": "$\\displaystyle \\sum_{x=1}^{50} \\frac{1}{x^{2}}$"
          },
          "metadata": {},
          "execution_count": 19
        }
      ]
    },
    {
      "cell_type": "code",
      "source": [
        "Sum(h,(x,1,oo))"
      ],
      "metadata": {
        "id": "WiZBTfRwe5d6",
        "outputId": "d20ab34a-88ec-4076-c01d-8bc4436d880f",
        "colab": {
          "base_uri": "https://localhost:8080/",
          "height": 66
        }
      },
      "execution_count": 20,
      "outputs": [
        {
          "output_type": "execute_result",
          "data": {
            "text/plain": [
              "Sum(x**(-2), (x, 1, oo))"
            ],
            "text/latex": "$\\displaystyle \\sum_{x=1}^{\\infty} \\frac{1}{x^{2}}$"
          },
          "metadata": {},
          "execution_count": 20
        }
      ]
    },
    {
      "cell_type": "code",
      "source": [
        "Sum(h,(x,1,oo)).doit()"
      ],
      "metadata": {
        "id": "RdOdP7MkfGdq",
        "outputId": "5f79901d-e2db-4df5-cb94-66fe711f75a4",
        "colab": {
          "base_uri": "https://localhost:8080/",
          "height": 54
        }
      },
      "execution_count": 21,
      "outputs": [
        {
          "output_type": "execute_result",
          "data": {
            "text/plain": [
              "pi**2/6"
            ],
            "text/latex": "$\\displaystyle \\frac{\\pi^{2}}{6}$"
          },
          "metadata": {},
          "execution_count": 21
        }
      ]
    },
    {
      "cell_type": "markdown",
      "source": [
        "`doit()` doesn't work for the assignment though as it doesn't simplify to such a nice answer.  You may need to use `N()` or `.evalf()`"
      ],
      "metadata": {
        "id": "iWAGlwJCgGt5"
      }
    },
    {
      "cell_type": "code",
      "source": [
        "Sum(h,(x,1,oo)).evalf()"
      ],
      "metadata": {
        "id": "mJPmg6WufItT",
        "outputId": "f6c618e8-0cdb-450b-ad77-6774f67875cf",
        "colab": {
          "base_uri": "https://localhost:8080/",
          "height": 37
        }
      },
      "execution_count": 22,
      "outputs": [
        {
          "output_type": "execute_result",
          "data": {
            "text/plain": [
              "1.64493406684823"
            ],
            "text/latex": "$\\displaystyle 1.64493406684823$"
          },
          "metadata": {},
          "execution_count": 22
        }
      ]
    },
    {
      "cell_type": "code",
      "source": [
        "N(Sum(h,(x,1,oo)))"
      ],
      "metadata": {
        "id": "0XVQdUCdfRFb",
        "outputId": "f80f70fc-c7d7-42a1-d1ce-00a234404d10",
        "colab": {
          "base_uri": "https://localhost:8080/",
          "height": 37
        }
      },
      "execution_count": 23,
      "outputs": [
        {
          "output_type": "execute_result",
          "data": {
            "text/plain": [
              "1.64493406684823"
            ],
            "text/latex": "$\\displaystyle 1.64493406684823$"
          },
          "metadata": {},
          "execution_count": 23
        }
      ]
    },
    {
      "cell_type": "code",
      "source": [
        "N(pi**2/6)"
      ],
      "metadata": {
        "id": "ggYG577BggbI",
        "outputId": "c4e9e8c4-1da1-442f-e3bc-1c0b15eca4d4",
        "colab": {
          "base_uri": "https://localhost:8080/",
          "height": 37
        }
      },
      "execution_count": 24,
      "outputs": [
        {
          "output_type": "execute_result",
          "data": {
            "text/plain": [
              "1.64493406684823"
            ],
            "text/latex": "$\\displaystyle 1.64493406684823$"
          },
          "metadata": {},
          "execution_count": 24
        }
      ]
    },
    {
      "cell_type": "code",
      "source": [],
      "metadata": {
        "id": "RB-vqPt_gyNC"
      },
      "execution_count": null,
      "outputs": []
    }
  ]
}