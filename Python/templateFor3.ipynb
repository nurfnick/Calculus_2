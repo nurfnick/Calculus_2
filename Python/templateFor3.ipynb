{
  "nbformat": 4,
  "nbformat_minor": 0,
  "metadata": {
    "colab": {
      "provenance": [],
      "authorship_tag": "ABX9TyMUtCRW/tq/oaJmyafLtnCJ",
      "include_colab_link": true
    },
    "kernelspec": {
      "name": "python3",
      "display_name": "Python 3"
    },
    "language_info": {
      "name": "python"
    }
  },
  "cells": [
    {
      "cell_type": "markdown",
      "metadata": {
        "id": "view-in-github",
        "colab_type": "text"
      },
      "source": [
        "<a href=\"https://colab.research.google.com/github/nurfnick/Calculus_2/blob/main/Python/templateFor3.ipynb\" target=\"_parent\"><img src=\"https://colab.research.google.com/assets/colab-badge.svg\" alt=\"Open In Colab\"/></a>"
      ]
    },
    {
      "cell_type": "markdown",
      "source": [
        "# Calculus II Computer Programming Lab #___\n",
        "## By:\n",
        "## Instructor: [Nicholas C Jacob](https://github.com/nurfnick)"
      ],
      "metadata": {
        "id": "gPrNBZ3utZsJ"
      }
    },
    {
      "cell_type": "markdown",
      "source": [
        "## Package Loading"
      ],
      "metadata": {
        "id": "5voIYGXauM9V"
      }
    },
    {
      "cell_type": "code",
      "execution_count": null,
      "metadata": {
        "id": "HFzu_cnmtLI_"
      },
      "outputs": [],
      "source": [
        "from sympy import *\n",
        "\n",
        "x = symbols('x')"
      ]
    },
    {
      "cell_type": "markdown",
      "source": [
        "## Number 1:  A little description about what you are doing"
      ],
      "metadata": {
        "id": "rILmx1FLuRVd"
      }
    },
    {
      "cell_type": "code",
      "source": [],
      "metadata": {
        "id": "vm8pGcmuuSzy"
      },
      "execution_count": null,
      "outputs": []
    },
    {
      "cell_type": "markdown",
      "source": [
        "## Number 2: Some description you can write after you've got started"
      ],
      "metadata": {
        "id": "D0vSa13FuTW8"
      }
    },
    {
      "cell_type": "code",
      "source": [],
      "metadata": {
        "id": "Yih9noYwuU_n"
      },
      "execution_count": null,
      "outputs": []
    },
    {
      "cell_type": "markdown",
      "source": [
        "## Number 3:  I think there are 3 questions on most..."
      ],
      "metadata": {
        "id": "cC65xvbsuWIb"
      }
    },
    {
      "cell_type": "code",
      "source": [],
      "metadata": {
        "id": "gaPKEZbmuXkS"
      },
      "execution_count": null,
      "outputs": []
    }
  ]
}