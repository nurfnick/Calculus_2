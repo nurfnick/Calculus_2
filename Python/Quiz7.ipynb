{
  "nbformat": 4,
  "nbformat_minor": 0,
  "metadata": {
    "colab": {
      "provenance": [],
      "authorship_tag": "ABX9TyMwpB9rvegs09X83zuRNUk7",
      "include_colab_link": true
    },
    "kernelspec": {
      "name": "python3",
      "display_name": "Python 3"
    },
    "language_info": {
      "name": "python"
    }
  },
  "cells": [
    {
      "cell_type": "markdown",
      "metadata": {
        "id": "view-in-github",
        "colab_type": "text"
      },
      "source": [
        "<a href=\"https://colab.research.google.com/github/nurfnick/Calculus_2/blob/main/Python/Quiz7.ipynb\" target=\"_parent\"><img src=\"https://colab.research.google.com/assets/colab-badge.svg\" alt=\"Open In Colab\"/></a>"
      ]
    },
    {
      "cell_type": "code",
      "execution_count": 1,
      "metadata": {
        "id": "7WMuSDwl9_Hs"
      },
      "outputs": [],
      "source": [
        "from sympy import *\n",
        "x = symbols('x')"
      ]
    },
    {
      "cell_type": "code",
      "source": [
        "f = x**4/(x-1)"
      ],
      "metadata": {
        "id": "CTteBNHW-EqM"
      },
      "execution_count": 2,
      "outputs": []
    },
    {
      "cell_type": "code",
      "source": [
        "simplify(f)"
      ],
      "metadata": {
        "colab": {
          "base_uri": "https://localhost:8080/",
          "height": 55
        },
        "id": "XeF30cLw-Wfg",
        "outputId": "c036e2c0-74a2-4145-f672-85f92aae07c8"
      },
      "execution_count": 3,
      "outputs": [
        {
          "output_type": "execute_result",
          "data": {
            "text/plain": [
              "x**4/(x - 1)"
            ],
            "text/latex": "$\\displaystyle \\frac{x^{4}}{x - 1}$"
          },
          "metadata": {},
          "execution_count": 3
        }
      ]
    },
    {
      "cell_type": "code",
      "source": [
        "expand(f)"
      ],
      "metadata": {
        "colab": {
          "base_uri": "https://localhost:8080/",
          "height": 55
        },
        "id": "6k_OjrBL-YK2",
        "outputId": "7666fba3-a8df-4751-ade5-b8382f02ee69"
      },
      "execution_count": 4,
      "outputs": [
        {
          "output_type": "execute_result",
          "data": {
            "text/plain": [
              "x**4/(x - 1)"
            ],
            "text/latex": "$\\displaystyle \\frac{x^{4}}{x - 1}$"
          },
          "metadata": {},
          "execution_count": 4
        }
      ]
    },
    {
      "cell_type": "code",
      "source": [
        "apart(f)"
      ],
      "metadata": {
        "colab": {
          "base_uri": "https://localhost:8080/",
          "height": 52
        },
        "id": "NCfYmEjs-ZrP",
        "outputId": "fdb781e7-534e-4fec-e7b4-eabad698cc46"
      },
      "execution_count": 5,
      "outputs": [
        {
          "output_type": "execute_result",
          "data": {
            "text/plain": [
              "x**3 + x**2 + x + 1 + 1/(x - 1)"
            ],
            "text/latex": "$\\displaystyle x^{3} + x^{2} + x + 1 + \\frac{1}{x - 1}$"
          },
          "metadata": {},
          "execution_count": 5
        }
      ]
    },
    {
      "cell_type": "code",
      "source": [
        "integrate(f,x)"
      ],
      "metadata": {
        "colab": {
          "base_uri": "https://localhost:8080/",
          "height": 54
        },
        "id": "Zf1AyvEj-b-h",
        "outputId": "93354831-7de9-47ef-90d6-a5b403c67715"
      },
      "execution_count": 6,
      "outputs": [
        {
          "output_type": "execute_result",
          "data": {
            "text/plain": [
              "x**4/4 + x**3/3 + x**2/2 + x + log(x - 1)"
            ],
            "text/latex": "$\\displaystyle \\frac{x^{4}}{4} + \\frac{x^{3}}{3} + \\frac{x^{2}}{2} + x + \\log{\\left(x - 1 \\right)}$"
          },
          "metadata": {},
          "execution_count": 6
        }
      ]
    },
    {
      "cell_type": "code",
      "source": [
        "g = (4*x**2-7*x-12)/(x*(x+2)*(x-3))"
      ],
      "metadata": {
        "id": "l9id-cw9-jG1"
      },
      "execution_count": 7,
      "outputs": []
    },
    {
      "cell_type": "code",
      "source": [
        "apart(g)"
      ],
      "metadata": {
        "colab": {
          "base_uri": "https://localhost:8080/",
          "height": 55
        },
        "id": "0VIMtO5B-43y",
        "outputId": "8d6aa833-f14d-492a-fbc4-b6ee81d184e6"
      },
      "execution_count": 8,
      "outputs": [
        {
          "output_type": "execute_result",
          "data": {
            "text/plain": [
              "9/(5*(x + 2)) + 1/(5*(x - 3)) + 2/x"
            ],
            "text/latex": "$\\displaystyle \\frac{9}{5 \\left(x + 2\\right)} + \\frac{1}{5 \\left(x - 3\\right)} + \\frac{2}{x}$"
          },
          "metadata": {},
          "execution_count": 8
        }
      ]
    },
    {
      "cell_type": "code",
      "source": [
        "integrate(g,x).expand()"
      ],
      "metadata": {
        "colab": {
          "base_uri": "https://localhost:8080/",
          "height": 53
        },
        "id": "qO8ofbyL-7IT",
        "outputId": "e29671d2-513c-4dc9-b2a3-1e3e27c7701f"
      },
      "execution_count": 12,
      "outputs": [
        {
          "output_type": "execute_result",
          "data": {
            "text/plain": [
              "2*log(x) + log(x - 3)/5 + 9*log(x + 2)/5"
            ],
            "text/latex": "$\\displaystyle 2 \\log{\\left(x \\right)} + \\frac{\\log{\\left(x - 3 \\right)}}{5} + \\frac{9 \\log{\\left(x + 2 \\right)}}{5}$"
          },
          "metadata": {},
          "execution_count": 12
        }
      ]
    },
    {
      "cell_type": "code",
      "source": [],
      "metadata": {
        "id": "zpPs2bm__ABr"
      },
      "execution_count": null,
      "outputs": []
    }
  ]
}