{
  "nbformat": 4,
  "nbformat_minor": 0,
  "metadata": {
    "colab": {
      "provenance": [],
      "authorship_tag": "ABX9TyOF84iBsXY/IhqEwRfWcYWd",
      "include_colab_link": true
    },
    "kernelspec": {
      "name": "python3",
      "display_name": "Python 3"
    },
    "language_info": {
      "name": "python"
    }
  },
  "cells": [
    {
      "cell_type": "markdown",
      "metadata": {
        "id": "view-in-github",
        "colab_type": "text"
      },
      "source": [
        "<a href=\"https://colab.research.google.com/github/nurfnick/Calculus_2/blob/main/Quiz0323.ipynb\" target=\"_parent\"><img src=\"https://colab.research.google.com/assets/colab-badge.svg\" alt=\"Open In Colab\"/></a>"
      ]
    },
    {
      "cell_type": "markdown",
      "source": [
        "#Quiz 3/23"
      ],
      "metadata": {
        "id": "CCxJ-uZQVqX3"
      }
    },
    {
      "cell_type": "markdown",
      "source": [
        "Do the following series converge or diverge.  Be sure to justify your result.\n",
        "1. \n",
        "$$\n",
        "\\sum_{n=1}^\\infty \\frac{1}{\\sqrt[3]{n^7}}\n",
        "$$\n",
        "2.\n",
        "$$\n",
        "\\sum_{n=1}^\\infty \\frac{1+5^n}{7^n}\n",
        "$$\n",
        "3.\n",
        "$$\n",
        "\\sum_{n=1}^\\infty \\frac{e^n}{n^2}\n",
        "$$"
      ],
      "metadata": {
        "id": "IRm_aQWIVuOl"
      }
    },
    {
      "cell_type": "code",
      "execution_count": null,
      "metadata": {
        "id": "2ewqnIqBVp52"
      },
      "outputs": [],
      "source": []
    }
  ]
}